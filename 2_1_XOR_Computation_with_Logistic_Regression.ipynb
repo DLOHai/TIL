{
  "nbformat": 4,
  "nbformat_minor": 0,
  "metadata": {
    "colab": {
      "name": "2_1. XOR Computation with Logistic Regression.ipynb",
      "version": "0.3.2",
      "provenance": [],
      "include_colab_link": true
    },
    "language_info": {
      "codemirror_mode": {
        "name": "ipython",
        "version": 3
      },
      "file_extension": ".py",
      "mimetype": "text/x-python",
      "name": "python",
      "nbconvert_exporter": "python",
      "pygments_lexer": "ipython3",
      "version": "3.6.8"
    },
    "kernelspec": {
      "display_name": "Python 3",
      "language": "python",
      "name": "python3"
    }
  },
  "cells": [
    {
      "cell_type": "markdown",
      "metadata": {
        "id": "view-in-github",
        "colab_type": "text"
      },
      "source": [
        "<a href=\"https://colab.research.google.com/github/DLOHai/TIL/blob/master/2_1_XOR_Computation_with_Logistic_Regression.ipynb\" target=\"_parent\"><img src=\"https://colab.research.google.com/assets/colab-badge.svg\" alt=\"Open In Colab\"/></a>"
      ]
    },
    {
      "metadata": {
        "id": "OhFURmLJlIN8",
        "colab_type": "code",
        "colab": {}
      },
      "cell_type": "code",
      "source": [
        "import numpy as np"
      ],
      "execution_count": 0,
      "outputs": []
    },
    {
      "metadata": {
        "id": "Oi59GO0_lIOA",
        "colab_type": "code",
        "colab": {}
      },
      "cell_type": "code",
      "source": [
        "np.random.seed(1)\n",
        "X = np.array([ [0,0,1],[0,1,1],[1,0,1],[1,1,1] ])\n",
        "y = np.array([[0,1,1,0]]).T\n",
        "W1 = 2*np.random.random((3,4)) - 1\n",
        "W2 = 2*np.random.random((4,1)) - 1"
      ],
      "execution_count": 0,
      "outputs": []
    },
    {
      "metadata": {
        "id": "Hq7KlgSylIOE",
        "colab_type": "code",
        "colab": {}
      },
      "cell_type": "code",
      "source": [
        "lr = 0.5"
      ],
      "execution_count": 0,
      "outputs": []
    },
    {
      "metadata": {
        "id": "ItbZdNZ9lIOH",
        "colab_type": "code",
        "colab": {}
      },
      "cell_type": "code",
      "source": [
        "for j in range(1000000):\n",
        "    #Forward\n",
        "    z1 = np.dot(X,W1) #      1) fully connected layer\n",
        "    a1 = 1/(1+np.exp(-z1)) # 2) sigmoid activation\n",
        "    z2 = np.dot(a1,W2) #     3)fully connected layer \n",
        "    a2 = 1/(1+np.exp(-z2)) # 4) sigmoid activation  \n",
        "    \n",
        "    ## Backward\n",
        "    dy = a2-y    # 5)\n",
        "    dz2 = dy*(1-a2)*a2   # 6) \n",
        "    da1 = np.dot(dz2, W2.T)   # 7) \n",
        "    dW2 = np.dot(a1.T,dz2)   # 8) \n",
        "    dz1 = da1*(1-a1)*a1   # 9)\n",
        "    dW1 = np.dot(X.T, dz1)   # 10)\n",
        "    \n",
        "    # update\n",
        "    W1 = W1 - lr*dW1\n",
        "    W2 = W2 - lr*dW2"
      ],
      "execution_count": 0,
      "outputs": []
    },
    {
      "metadata": {
        "id": "NoWpFn7llIOK",
        "colab_type": "code",
        "colab": {},
        "outputId": "90314f24-67d9-46fc-e86e-54a32b237910"
      },
      "cell_type": "code",
      "source": [
        "# prediction\n",
        "a1 = 1/(1+np.exp(-(np.dot(X,W1))))\n",
        "a2 = 1/(1+np.exp(-(np.dot(a1,W2))))\n",
        "print(a2)"
      ],
      "execution_count": 0,
      "outputs": [
        {
          "output_type": "stream",
          "text": [
            "[[8.71662923e-04]\n",
            " [9.98944485e-01]\n",
            " [9.98990361e-01]\n",
            " [1.26556767e-03]]\n"
          ],
          "name": "stdout"
        }
      ]
    },
    {
      "metadata": {
        "id": "kuFXo0fwlIOQ",
        "colab_type": "code",
        "colab": {}
      },
      "cell_type": "code",
      "source": [
        ""
      ],
      "execution_count": 0,
      "outputs": []
    }
  ]
}