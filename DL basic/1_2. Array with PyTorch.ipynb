{
 "cells": [
  {
   "cell_type": "markdown",
   "metadata": {},
   "source": [
    "# PyTorch Tensor\n",
    "## 1D Array with Torch"
   ]
  },
  {
   "cell_type": "code",
   "execution_count": 44,
   "metadata": {},
   "outputs": [
    {
     "name": "stdout",
     "output_type": "stream",
     "text": [
      "tensor([0., 1., 2., 3., 4., 5., 6.])\n",
      "tensor([0., 1., 2., 3., 4., 5., 6.])\n"
     ]
    }
   ],
   "source": [
    "import torch\n",
    "\n",
    "t1 = torch.Tensor([0, 1, 2, 3, 4, 5, 6])\n",
    "t2 = torch.Tensor([0., 1., 2., 3., 4., 5., 6.])\n",
    "print(t1)\n",
    "print(t2)"
   ]
  },
  {
   "cell_type": "code",
   "execution_count": 45,
   "metadata": {},
   "outputs": [
    {
     "name": "stdout",
     "output_type": "stream",
     "text": [
      "t1  차원 dim:  1\n",
      "t1     shape:  torch.Size([7])\n",
      "t1      size:  torch.Size([7])\n",
      "t1 data type:  torch.FloatTensor\n",
      "t2  차원 dim:  1\n",
      "t2     shape:  torch.Size([7])\n",
      "t2      size:  torch.Size([7])\n",
      "t2 data type:  torch.FloatTensor\n"
     ]
    }
   ],
   "source": [
    "print('t1  차원 dim: ',t1.dim())\n",
    "print('t1     shape: ',t1.shape)\n",
    "print('t1      size: ',t1.size())\n",
    "print('t1 data type: ',t1.type())\n",
    "\n",
    "print('t2  차원 dim: ',t2.dim())\n",
    "print('t2     shape: ',t2.shape)\n",
    "print('t2      size: ',t2.size())\n",
    "print('t2 data type: ',t2.type())"
   ]
  },
  {
   "cell_type": "code",
   "execution_count": 46,
   "metadata": {},
   "outputs": [
    {
     "name": "stdout",
     "output_type": "stream",
     "text": [
      "tensor([0, 1, 2, 3, 4, 5, 6])\n",
      "tensor([0., 1., 2., 3., 4., 5., 6.])\n"
     ]
    }
   ],
   "source": [
    "t3 = torch.tensor([0, 1, 2, 3, 4, 5, 6])\n",
    "t4 = torch.tensor([0., 1., 2., 3., 4., 5., 6.])\n",
    "print(t3)\n",
    "print(t4)"
   ]
  },
  {
   "cell_type": "code",
   "execution_count": 52,
   "metadata": {},
   "outputs": [
    {
     "name": "stdout",
     "output_type": "stream",
     "text": [
      "t3  차원 dim:  1\n",
      "t3     shape:  torch.Size([7])\n",
      "t3     shape:  torch.Size([7])\n",
      "t3 data type:  torch.LongTensor\n",
      "t4  차원 dim:  1\n",
      "t4     shape:  torch.Size([7])\n",
      "t4     shape:  torch.Size([7])\n",
      "t4 data type:  torch.FloatTensor\n"
     ]
    }
   ],
   "source": [
    "print('t3  차원 dim: ',t3.dim())\n",
    "print('t3     shape: ',t3.shape)\n",
    "print('t3     shape: ',t3.size())\n",
    "print('t3 data type: ',t3.type())\n",
    "\n",
    "print('t4  차원 dim: ',t4.dim())\n",
    "print('t4     shape: ',t4.shape)\n",
    "print('t4     shape: ',t4.size())\n",
    "print('t4 data type: ',t4.type())"
   ]
  },
  {
   "cell_type": "markdown",
   "metadata": {},
   "source": [
    "## _**np.array의 default data type은 Int**_\n",
    "## _**torch.tensor의 default data type은 LONG**_\n",
    "## _**torch.Tensor의 default data type은 Float**_"
   ]
  },
  {
   "cell_type": "markdown",
   "metadata": {},
   "source": [
    "### Element"
   ]
  },
  {
   "cell_type": "code",
   "execution_count": 21,
   "metadata": {},
   "outputs": [
    {
     "name": "stdout",
     "output_type": "stream",
     "text": [
      "tensor(0.) tensor(1.) tensor(6.)\n"
     ]
    }
   ],
   "source": [
    "print(t[0], t[1], t[-1])"
   ]
  },
  {
   "cell_type": "markdown",
   "metadata": {},
   "source": [
    "### Slicing"
   ]
  },
  {
   "cell_type": "code",
   "execution_count": 22,
   "metadata": {},
   "outputs": [
    {
     "name": "stdout",
     "output_type": "stream",
     "text": [
      "tensor([2., 3., 4.]) tensor([4., 5.])\n",
      "tensor([0., 1.]) tensor([3., 4., 5., 6.])\n"
     ]
    }
   ],
   "source": [
    "print(t[2:5], t[4:-1])    \n",
    "print(t[:2], t[3:])"
   ]
  },
  {
   "cell_type": "markdown",
   "metadata": {},
   "source": [
    "## 2D Array with Torch"
   ]
  },
  {
   "cell_type": "code",
   "execution_count": 48,
   "metadata": {},
   "outputs": [
    {
     "name": "stdout",
     "output_type": "stream",
     "text": [
      "tensor([[ 1.,  2.,  3.],\n",
      "        [ 4.,  5.,  6.],\n",
      "        [ 7.,  8.,  9.],\n",
      "        [10., 11., 12.]])\n"
     ]
    }
   ],
   "source": [
    "tt = torch.tensor([[1., 2., 3.],\n",
    "                       [4., 5., 6.],\n",
    "                       [7., 8., 9.],\n",
    "                       [10., 11., 12.]\n",
    "                      ])\n",
    "print(tt)"
   ]
  },
  {
   "cell_type": "code",
   "execution_count": 51,
   "metadata": {},
   "outputs": [
    {
     "name": "stdout",
     "output_type": "stream",
     "text": [
      "tt  차원 dim:  2\n",
      "tt     shape:  torch.Size([4, 3])\n",
      "tt      size:  torch.Size([4, 3])\n"
     ]
    }
   ],
   "source": [
    "print('tt  차원 dim: ',tt.dim())\n",
    "print('tt     shape: ',tt.shape)\n",
    "print('tt      size: ',tt.size())"
   ]
  },
  {
   "cell_type": "code",
   "execution_count": 56,
   "metadata": {},
   "outputs": [
    {
     "name": "stdout",
     "output_type": "stream",
     "text": [
      "tensor([ 2.,  5.,  8., 11.])\n",
      "torch.Size([4])\n",
      "tensor([[ 1.,  2.],\n",
      "        [ 4.,  5.],\n",
      "        [ 7.,  8.],\n",
      "        [10., 11.]])\n"
     ]
    }
   ],
   "source": [
    "print(tt[:,1])\n",
    "print(tt[:,1].size())\n",
    "print(tt[:,:-1])"
   ]
  },
  {
   "cell_type": "markdown",
   "metadata": {},
   "source": [
    "## 4D"
   ]
  },
  {
   "cell_type": "code",
   "execution_count": 57,
   "metadata": {},
   "outputs": [],
   "source": [
    "ttt = torch.FloatTensor([[[[1, 2, 3, 4],\n",
    "                         [5, 6, 7, 8],\n",
    "                         [9, 10, 11, 12]],\n",
    "                       [[13, 14, 15, 16],\n",
    "                        [17, 18, 19, 20],\n",
    "                        [21, 22, 23, 24]]\n",
    "                       ]])"
   ]
  },
  {
   "cell_type": "code",
   "execution_count": 58,
   "metadata": {},
   "outputs": [
    {
     "name": "stdout",
     "output_type": "stream",
     "text": [
      "4\n",
      "torch.Size([1, 2, 3, 4])\n"
     ]
    }
   ],
   "source": [
    "print(ttt.dim())  # rank  = 4\n",
    "print(ttt.size()) # shape = (1, 2, 3, 4)"
   ]
  }
 ],
 "metadata": {
  "kernelspec": {
   "display_name": "Python 3",
   "language": "python",
   "name": "python3"
  },
  "language_info": {
   "codemirror_mode": {
    "name": "ipython",
    "version": 3
   },
   "file_extension": ".py",
   "mimetype": "text/x-python",
   "name": "python",
   "nbconvert_exporter": "python",
   "pygments_lexer": "ipython3",
   "version": "3.6.8"
  }
 },
 "nbformat": 4,
 "nbformat_minor": 2
}
