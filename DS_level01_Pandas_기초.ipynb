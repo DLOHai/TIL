{
  "nbformat": 4,
  "nbformat_minor": 0,
  "metadata": {
    "colab": {
      "name": "DS_level01_Pandas 기초.ipynb",
      "provenance": [],
      "collapsed_sections": [],
      "toc_visible": true,
      "include_colab_link": true
    },
    "kernelspec": {
      "name": "python3",
      "display_name": "Python 3"
    }
  },
  "cells": [
    {
      "cell_type": "markdown",
      "metadata": {
        "id": "view-in-github",
        "colab_type": "text"
      },
      "source": [
        "<a href=\"https://colab.research.google.com/github/DLOHai/TIL/blob/master/DS_level01_Pandas_%EA%B8%B0%EC%B4%88.ipynb\" target=\"_parent\"><img src=\"https://colab.research.google.com/assets/colab-badge.svg\" alt=\"Open In Colab\"/></a>"
      ]
    },
    {
      "cell_type": "markdown",
      "metadata": {
        "id": "KhRrfGXo2Q0M",
        "colab_type": "text"
      },
      "source": [
        "# DS level 01 Pandas 기초"
      ]
    },
    {
      "cell_type": "code",
      "metadata": {
        "id": "sQfydvIb2Nzf",
        "colab_type": "code",
        "colab": {}
      },
      "source": [
        "import pandas as pd"
      ],
      "execution_count": 0,
      "outputs": []
    },
    {
      "cell_type": "code",
      "metadata": {
        "id": "RHpshNgI2c0_",
        "colab_type": "code",
        "outputId": "a1ec4eb4-8aba-4c8f-8294-6eba074b0657",
        "colab": {
          "base_uri": "https://localhost:8080/",
          "height": 35
        }
      },
      "source": [
        "num = [1,2,3,4,5]\n",
        "num"
      ],
      "execution_count": 2,
      "outputs": [
        {
          "output_type": "execute_result",
          "data": {
            "text/plain": [
              "[1, 2, 3, 4, 5]"
            ]
          },
          "metadata": {
            "tags": []
          },
          "execution_count": 2
        }
      ]
    },
    {
      "cell_type": "markdown",
      "metadata": {
        "id": "zeDf1IpZ_Wi3",
        "colab_type": "text"
      },
      "source": [
        "## 1. Pandas의 자료구조\n",
        "---\n",
        "- Series\n",
        "- DataFrame\n",
        "- Index\n",
        "- Parallel\n",
        "\n",
        "### 이 중 DataFrame과 Series가 가장 주된 자료구조이다!\n",
        " \n",
        " \n",
        " \n",
        " \n",
        " "
      ]
    },
    {
      "cell_type": "markdown",
      "metadata": {
        "id": "JrySi4y__4zH",
        "colab_type": "text"
      },
      "source": [
        ""
      ]
    },
    {
      "cell_type": "markdown",
      "metadata": {
        "id": "nHBraURZ6lkT",
        "colab_type": "text"
      },
      "source": [
        "### Series\n",
        "---\n",
        "기능은 Python의 `list`와 거의 완벽하게 같다.\n",
        "\n",
        ">Q: 그렇게 동일하면 _**왜!**_ list가 아니라 `Series`를 사용하나?\n",
        "\n",
        "> A: Series로 바꿔줘야만 pandas의 기능을 쓸 수 있기 때문에\n",
        "\n",
        "e.g. 리스트의 평균을 구하고 싶다.\n",
        "`pandas.Series()`를 써줘야만 쓸 수 있다."
      ]
    },
    {
      "cell_type": "code",
      "metadata": {
        "id": "of_tMvgA8zOL",
        "colab_type": "code",
        "outputId": "e3018cd7-1acc-42d9-d09c-e185d1bf7b52",
        "colab": {
          "base_uri": "https://localhost:8080/",
          "height": 166
        }
      },
      "source": [
        "num.mean()"
      ],
      "execution_count": 3,
      "outputs": [
        {
          "output_type": "error",
          "ename": "AttributeError",
          "evalue": "ignored",
          "traceback": [
            "\u001b[0;31m---------------------------------------------------------------------------\u001b[0m",
            "\u001b[0;31mAttributeError\u001b[0m                            Traceback (most recent call last)",
            "\u001b[0;32m<ipython-input-3-8770d14f681e>\u001b[0m in \u001b[0;36m<module>\u001b[0;34m()\u001b[0m\n\u001b[0;32m----> 1\u001b[0;31m \u001b[0mnum\u001b[0m\u001b[0;34m.\u001b[0m\u001b[0mmean\u001b[0m\u001b[0;34m(\u001b[0m\u001b[0;34m)\u001b[0m\u001b[0;34m\u001b[0m\u001b[0;34m\u001b[0m\u001b[0m\n\u001b[0m",
            "\u001b[0;31mAttributeError\u001b[0m: 'list' object has no attribute 'mean'"
          ]
        }
      ]
    },
    {
      "cell_type": "code",
      "metadata": {
        "id": "22dwKWh46lw5",
        "colab_type": "code",
        "colab": {
          "base_uri": "https://localhost:8080/",
          "height": 121
        },
        "outputId": "e38c6151-62d3-4cca-ff75-d6b0402f12f7"
      },
      "source": [
        "## 1차원 리스트 Series로 만들어주기\n",
        "pd_num = pd.Series(num)\n",
        "pd_num"
      ],
      "execution_count": 4,
      "outputs": [
        {
          "output_type": "execute_result",
          "data": {
            "text/plain": [
              "0    1\n",
              "1    2\n",
              "2    3\n",
              "3    4\n",
              "4    5\n",
              "dtype: int64"
            ]
          },
          "metadata": {
            "tags": []
          },
          "execution_count": 4
        }
      ]
    },
    {
      "cell_type": "code",
      "metadata": {
        "id": "bZr0igin7Z_s",
        "colab_type": "code",
        "outputId": "be6b9600-4f79-4acb-d325-0df06df2282a",
        "colab": {
          "base_uri": "https://localhost:8080/",
          "height": 35
        }
      },
      "source": [
        "pd_num.mean()"
      ],
      "execution_count": 5,
      "outputs": [
        {
          "output_type": "execute_result",
          "data": {
            "text/plain": [
              "3.0"
            ]
          },
          "metadata": {
            "tags": []
          },
          "execution_count": 5
        }
      ]
    },
    {
      "cell_type": "markdown",
      "metadata": {
        "id": "K7faynj49EAO",
        "colab_type": "text"
      },
      "source": [
        "### DataFrame\n",
        "---\n",
        "pandas 사용의 70~80%가 **DataFrame** !\n",
        "\n",
        "_**pandas의 main 자료구조 DataFrame**_\n",
        "\n",
        "Excel이나 Spreadsheet에서 Data를 읽어오면 행렬형태가 되는데, pandas에선 DataFrame이다."
      ]
    },
    {
      "cell_type": "code",
      "metadata": {
        "id": "CcNf73wg85uu",
        "colab_type": "code",
        "colab": {}
      },
      "source": [
        "numbers = [\n",
        "    [1,2,3],\n",
        "    [4,5,6],\n",
        "    [7,8,9]\n",
        "]"
      ],
      "execution_count": 0,
      "outputs": []
    },
    {
      "cell_type": "code",
      "metadata": {
        "id": "HiSw8nly-3Ta",
        "colab_type": "code",
        "outputId": "bef6e72d-9829-4794-842a-217dfaa19c7f",
        "colab": {
          "base_uri": "https://localhost:8080/",
          "height": 138
        }
      },
      "source": [
        "## 이차원 리스트를 DataFrame으로 만들어주기\n",
        "pd_nums = pd.DataFrame(numbers)\n",
        "pd_nums"
      ],
      "execution_count": 7,
      "outputs": [
        {
          "output_type": "execute_result",
          "data": {
            "text/html": [
              "<div>\n",
              "<style scoped>\n",
              "    .dataframe tbody tr th:only-of-type {\n",
              "        vertical-align: middle;\n",
              "    }\n",
              "\n",
              "    .dataframe tbody tr th {\n",
              "        vertical-align: top;\n",
              "    }\n",
              "\n",
              "    .dataframe thead th {\n",
              "        text-align: right;\n",
              "    }\n",
              "</style>\n",
              "<table border=\"1\" class=\"dataframe\">\n",
              "  <thead>\n",
              "    <tr style=\"text-align: right;\">\n",
              "      <th></th>\n",
              "      <th>0</th>\n",
              "      <th>1</th>\n",
              "      <th>2</th>\n",
              "    </tr>\n",
              "  </thead>\n",
              "  <tbody>\n",
              "    <tr>\n",
              "      <th>0</th>\n",
              "      <td>1</td>\n",
              "      <td>2</td>\n",
              "      <td>3</td>\n",
              "    </tr>\n",
              "    <tr>\n",
              "      <th>1</th>\n",
              "      <td>4</td>\n",
              "      <td>5</td>\n",
              "      <td>6</td>\n",
              "    </tr>\n",
              "    <tr>\n",
              "      <th>2</th>\n",
              "      <td>7</td>\n",
              "      <td>8</td>\n",
              "      <td>9</td>\n",
              "    </tr>\n",
              "  </tbody>\n",
              "</table>\n",
              "</div>"
            ],
            "text/plain": [
              "   0  1  2\n",
              "0  1  2  3\n",
              "1  4  5  6\n",
              "2  7  8  9"
            ]
          },
          "metadata": {
            "tags": []
          },
          "execution_count": 7
        }
      ]
    },
    {
      "cell_type": "markdown",
      "metadata": {
        "id": "c8mIuUrOANdD",
        "colab_type": "text"
      },
      "source": [
        "### Series 와 DataFrame의 관계\n",
        "---\n",
        "1. 위 DataFrame 중 1,4,7을 가지고 있는 0번  Column을 가져와보자\n",
        "- 대괄호 안에 원하는 column 번호 입력"
      ]
    },
    {
      "cell_type": "code",
      "metadata": {
        "id": "NQi5G_MEBPAg",
        "colab_type": "code",
        "outputId": "7dcb30b5-0365-41b4-d0d1-fbdb2dd6ff36",
        "colab": {
          "base_uri": "https://localhost:8080/",
          "height": 35
        }
      },
      "source": [
        "type(pd_nums)"
      ],
      "execution_count": 8,
      "outputs": [
        {
          "output_type": "execute_result",
          "data": {
            "text/plain": [
              "pandas.core.frame.DataFrame"
            ]
          },
          "metadata": {
            "tags": []
          },
          "execution_count": 8
        }
      ]
    },
    {
      "cell_type": "code",
      "metadata": {
        "id": "9W0dXcCD_Mre",
        "colab_type": "code",
        "outputId": "2b21e526-eb14-476f-c8df-1e12eca4a8ef",
        "colab": {
          "base_uri": "https://localhost:8080/",
          "height": 86
        }
      },
      "source": [
        "nums_0 = pd_nums[0]\n",
        "nums_0"
      ],
      "execution_count": 9,
      "outputs": [
        {
          "output_type": "execute_result",
          "data": {
            "text/plain": [
              "0    1\n",
              "1    4\n",
              "2    7\n",
              "Name: 0, dtype: int64"
            ]
          },
          "metadata": {
            "tags": []
          },
          "execution_count": 9
        }
      ]
    },
    {
      "cell_type": "code",
      "metadata": {
        "id": "nBw7hCBQBekY",
        "colab_type": "code",
        "outputId": "09d10824-1dcf-46a4-9286-751e1efbdb62",
        "colab": {
          "base_uri": "https://localhost:8080/",
          "height": 35
        }
      },
      "source": [
        "type(nums_0)"
      ],
      "execution_count": 10,
      "outputs": [
        {
          "output_type": "execute_result",
          "data": {
            "text/plain": [
              "pandas.core.series.Series"
            ]
          },
          "metadata": {
            "tags": []
          },
          "execution_count": 10
        }
      ]
    },
    {
      "cell_type": "markdown",
      "metadata": {
        "id": "7reashqBCZNr",
        "colab_type": "text"
      },
      "source": [
        "2. 0번 째 row를 가져와보자."
      ]
    },
    {
      "cell_type": "code",
      "metadata": {
        "id": "BtR6z3n3CMgH",
        "colab_type": "code",
        "outputId": "0b98a29f-fe7a-4401-ee65-7ddd8fa1c747",
        "colab": {
          "base_uri": "https://localhost:8080/",
          "height": 86
        }
      },
      "source": [
        "pd_nums.loc[0]"
      ],
      "execution_count": 11,
      "outputs": [
        {
          "output_type": "execute_result",
          "data": {
            "text/plain": [
              "0    1\n",
              "1    2\n",
              "2    3\n",
              "Name: 0, dtype: int64"
            ]
          },
          "metadata": {
            "tags": []
          },
          "execution_count": 11
        }
      ]
    },
    {
      "cell_type": "code",
      "metadata": {
        "id": "QAr3CGvVCtFg",
        "colab_type": "code",
        "outputId": "05768f35-d7b8-42e9-bb58-df49f7fa16b7",
        "colab": {
          "base_uri": "https://localhost:8080/",
          "height": 35
        }
      },
      "source": [
        "type(pd_nums.loc[0])"
      ],
      "execution_count": 12,
      "outputs": [
        {
          "output_type": "execute_result",
          "data": {
            "text/plain": [
              "pandas.core.series.Series"
            ]
          },
          "metadata": {
            "tags": []
          },
          "execution_count": 12
        }
      ]
    },
    {
      "cell_type": "markdown",
      "metadata": {
        "id": "4GMfRaDJCQG9",
        "colab_type": "text"
      },
      "source": [
        "**즉, DataFrame은 여러개의 Series로 이루어져 있다.**\n",
        "\n",
        "> DataFrame은 수학적으로 Matrix\n",
        "\n",
        "> Series는 Vector라고 생각하면 된다."
      ]
    },
    {
      "cell_type": "markdown",
      "metadata": {
        "id": "u0TkuZTIDOSN",
        "colab_type": "text"
      },
      "source": [
        "### DataFrame과 Series의 기능\n",
        "---\n",
        "- DataFrame과 Series 기능을 거의 대부분 공유한다."
      ]
    },
    {
      "cell_type": "markdown",
      "metadata": {
        "id": "uxrz-6R2ClNm",
        "colab_type": "text"
      },
      "source": [
        "## 2. Pandas의 Data Type"
      ]
    },
    {
      "cell_type": "code",
      "metadata": {
        "id": "hHZte1AVDvwF",
        "colab_type": "code",
        "outputId": "6129b367-0d3c-44ef-ebaa-21d1c5bb8470",
        "colab": {
          "base_uri": "https://localhost:8080/",
          "height": 35
        }
      },
      "source": [
        "# int == 정수형\n",
        "type(1)"
      ],
      "execution_count": 13,
      "outputs": [
        {
          "output_type": "execute_result",
          "data": {
            "text/plain": [
              "int"
            ]
          },
          "metadata": {
            "tags": []
          },
          "execution_count": 13
        }
      ]
    },
    {
      "cell_type": "code",
      "metadata": {
        "id": "nTtVSxyAETPk",
        "colab_type": "code",
        "outputId": "514bf319-2c20-4466-f9ed-2c87479b19e1",
        "colab": {
          "base_uri": "https://localhost:8080/",
          "height": 35
        }
      },
      "source": [
        "# float == 실수형\n",
        "type(1.0)"
      ],
      "execution_count": 14,
      "outputs": [
        {
          "output_type": "execute_result",
          "data": {
            "text/plain": [
              "float"
            ]
          },
          "metadata": {
            "tags": []
          },
          "execution_count": 14
        }
      ]
    },
    {
      "cell_type": "code",
      "metadata": {
        "id": "ZvNWbfZVEXcB",
        "colab_type": "code",
        "outputId": "6c6a3d72-1356-4b34-96db-eabecada9519",
        "colab": {
          "base_uri": "https://localhost:8080/",
          "height": 35
        }
      },
      "source": [
        "# str = 문자열\n",
        "type(\"Hello, World\")"
      ],
      "execution_count": 15,
      "outputs": [
        {
          "output_type": "execute_result",
          "data": {
            "text/plain": [
              "str"
            ]
          },
          "metadata": {
            "tags": []
          },
          "execution_count": 15
        }
      ]
    },
    {
      "cell_type": "code",
      "metadata": {
        "id": "jYIm6FogEbGl",
        "colab_type": "code",
        "outputId": "f1ab3d39-1aa7-45c9-b285-bf03abf60527",
        "colab": {
          "base_uri": "https://localhost:8080/",
          "height": 35
        }
      },
      "source": [
        "odd = [1, 3, 5, 7, 9]\n",
        "type(odd)"
      ],
      "execution_count": 16,
      "outputs": [
        {
          "output_type": "execute_result",
          "data": {
            "text/plain": [
              "list"
            ]
          },
          "metadata": {
            "tags": []
          },
          "execution_count": 16
        }
      ]
    },
    {
      "cell_type": "code",
      "metadata": {
        "id": "fokz7VteEi09",
        "colab_type": "code",
        "outputId": "5193bcbe-d953-44dd-d7b4-6e610ab04d5d",
        "colab": {
          "base_uri": "https://localhost:8080/",
          "height": 121
        }
      },
      "source": [
        "odd = pd.Series(odd)\n",
        "odd"
      ],
      "execution_count": 17,
      "outputs": [
        {
          "output_type": "execute_result",
          "data": {
            "text/plain": [
              "0    1\n",
              "1    3\n",
              "2    5\n",
              "3    7\n",
              "4    9\n",
              "dtype: int64"
            ]
          },
          "metadata": {
            "tags": []
          },
          "execution_count": 17
        }
      ]
    },
    {
      "cell_type": "code",
      "metadata": {
        "id": "QFZ7cH91Euu2",
        "colab_type": "code",
        "outputId": "dea814b6-1300-4551-f9ff-fe54cc3cd080",
        "colab": {
          "base_uri": "https://localhost:8080/",
          "height": 35
        }
      },
      "source": [
        "odd.dtypes"
      ],
      "execution_count": 18,
      "outputs": [
        {
          "output_type": "execute_result",
          "data": {
            "text/plain": [
              "dtype('int64')"
            ]
          },
          "metadata": {
            "tags": []
          },
          "execution_count": 18
        }
      ]
    },
    {
      "cell_type": "markdown",
      "metadata": {
        "id": "efcIDZhFFJqe",
        "colab_type": "text"
      },
      "source": [
        "int64가 거의 default\n",
        "- 요즘 컴퓨터가 다 64bit 컴퓨터이기 때문\n",
        "- int32도 있지만 거의 무시하면 됨.\n",
        "- Series 원소의 datatype이 전체 다 int다 -> Series도 int형"
      ]
    },
    {
      "cell_type": "code",
      "metadata": {
        "id": "zKjJLEGfFJ0q",
        "colab_type": "code",
        "outputId": "4823d7bc-4eb9-4fba-a7e8-9aa7a28d6314",
        "colab": {
          "base_uri": "https://localhost:8080/",
          "height": 121
        }
      },
      "source": [
        "odd = [1,3,5,7,9.0]\n",
        "odd = pd.Series(odd)\n",
        "odd"
      ],
      "execution_count": 19,
      "outputs": [
        {
          "output_type": "execute_result",
          "data": {
            "text/plain": [
              "0    1.0\n",
              "1    3.0\n",
              "2    5.0\n",
              "3    7.0\n",
              "4    9.0\n",
              "dtype: float64"
            ]
          },
          "metadata": {
            "tags": []
          },
          "execution_count": 19
        }
      ]
    },
    {
      "cell_type": "code",
      "metadata": {
        "id": "Eh4bGADmIGIo",
        "colab_type": "code",
        "outputId": "f8ec69b9-8ad1-4b15-ff60-19e634c88757",
        "colab": {
          "base_uri": "https://localhost:8080/",
          "height": 35
        }
      },
      "source": [
        "odd.dtypes"
      ],
      "execution_count": 20,
      "outputs": [
        {
          "output_type": "execute_result",
          "data": {
            "text/plain": [
              "dtype('float64')"
            ]
          },
          "metadata": {
            "tags": []
          },
          "execution_count": 20
        }
      ]
    },
    {
      "cell_type": "markdown",
      "metadata": {
        "id": "2wJ3nF7GIsBk",
        "colab_type": "text"
      },
      "source": [
        "- 원소 중 하나라도 float면 Series datatype도 float다!\n",
        "- 실수 > 정수 포함관계"
      ]
    },
    {
      "cell_type": "markdown",
      "metadata": {
        "id": "rz0C7cHlIUNr",
        "colab_type": "text"
      },
      "source": [
        "> Q: 만약에 정수, 실수, 문자열이 하나의 Series에 있으면?"
      ]
    },
    {
      "cell_type": "code",
      "metadata": {
        "id": "hr5_5bp5I_dg",
        "colab_type": "code",
        "outputId": "2b0e0485-9b36-43d6-d80b-b9feb2a21146",
        "colab": {
          "base_uri": "https://localhost:8080/",
          "height": 138
        }
      },
      "source": [
        "odd = [1,3,5,7,9.0, 'odd']\n",
        "odd = pd.Series(odd)\n",
        "odd"
      ],
      "execution_count": 21,
      "outputs": [
        {
          "output_type": "execute_result",
          "data": {
            "text/plain": [
              "0      1\n",
              "1      3\n",
              "2      5\n",
              "3      7\n",
              "4      9\n",
              "5    odd\n",
              "dtype: object"
            ]
          },
          "metadata": {
            "tags": []
          },
          "execution_count": 21
        }
      ]
    },
    {
      "cell_type": "code",
      "metadata": {
        "id": "j1bm6P7SJnXm",
        "colab_type": "code",
        "outputId": "6152a112-8a0a-4d40-95a9-1cb21ba1c29f",
        "colab": {
          "base_uri": "https://localhost:8080/",
          "height": 35
        }
      },
      "source": [
        "odd.dtypes"
      ],
      "execution_count": 22,
      "outputs": [
        {
          "output_type": "execute_result",
          "data": {
            "text/plain": [
              "dtype('O')"
            ]
          },
          "metadata": {
            "tags": []
          },
          "execution_count": 22
        }
      ]
    },
    {
      "cell_type": "markdown",
      "metadata": {
        "id": "1H0z0ebSJePR",
        "colab_type": "text"
      },
      "source": [
        "### Object data type\n",
        "---\n",
        "- string을 포함한 자료형\n",
        "- dtype('O')라고 표현\n",
        "- Objecct의 약자 'O'\n",
        "- 문자를 pandas에선 Object / Python에선 String이라고 함\n",
        "- 하나라도 string이 있으면 object\n",
        "- DataFrame도 동일\n"
      ]
    },
    {
      "cell_type": "markdown",
      "metadata": {
        "id": "l4GLauApWXxI",
        "colab_type": "text"
      },
      "source": [
        "### NaN (Not a Number)\n",
        "- \"값이 비어있다\"\n",
        "- 왜 이것을 별도로 명시할까?\n",
        " -> 0이나 -1로 대체할 수 있지만 통계치에서 오차가 발생할 수 있다."
      ]
    },
    {
      "cell_type": "code",
      "metadata": {
        "id": "70DySkJWJP_p",
        "colab_type": "code",
        "colab": {
          "base_uri": "https://localhost:8080/",
          "height": 35
        },
        "outputId": "8889686f-64b7-4a35-83d7-b19d5fe443f9"
      },
      "source": [
        "import numpy as np\n",
        "\n",
        "odd = [1,3,5,7,9]\n",
        "odd = pd.Series(odd)\n",
        "odd.dtypes"
      ],
      "execution_count": 23,
      "outputs": [
        {
          "output_type": "execute_result",
          "data": {
            "text/plain": [
              "dtype('int64')"
            ]
          },
          "metadata": {
            "tags": []
          },
          "execution_count": 23
        }
      ]
    },
    {
      "cell_type": "code",
      "metadata": {
        "id": "HrLvpsPzWUXl",
        "colab_type": "code",
        "colab": {
          "base_uri": "https://localhost:8080/",
          "height": 35
        },
        "outputId": "968077ab-7cc7-4711-bdbe-3fc0fbf2fe88"
      },
      "source": [
        "# 만약에 임의의 원소를 nan으로 바꾸면?\n",
        "odd = [1,np.nan,5,7,9]\n",
        "odd = pd.Series(odd)\n",
        "odd.dtypes"
      ],
      "execution_count": 24,
      "outputs": [
        {
          "output_type": "execute_result",
          "data": {
            "text/plain": [
              "dtype('float64')"
            ]
          },
          "metadata": {
            "tags": []
          },
          "execution_count": 24
        }
      ]
    },
    {
      "cell_type": "code",
      "metadata": {
        "id": "H0-mDve1YmCh",
        "colab_type": "code",
        "colab": {
          "base_uri": "https://localhost:8080/",
          "height": 35
        },
        "outputId": "2a7d8c2b-bc3e-4f5f-efc5-cf7c5563b43e"
      },
      "source": [
        "odd.mean()"
      ],
      "execution_count": 25,
      "outputs": [
        {
          "output_type": "execute_result",
          "data": {
            "text/plain": [
              "5.5"
            ]
          },
          "metadata": {
            "tags": []
          },
          "execution_count": 25
        }
      ]
    },
    {
      "cell_type": "code",
      "metadata": {
        "id": "MPcZmz0vYw0C",
        "colab_type": "code",
        "colab": {
          "base_uri": "https://localhost:8080/",
          "height": 121
        },
        "outputId": "bc47d520-d721-4edd-9cb0-71a11e7920cb"
      },
      "source": [
        "odd"
      ],
      "execution_count": 26,
      "outputs": [
        {
          "output_type": "execute_result",
          "data": {
            "text/plain": [
              "0    1.0\n",
              "1    NaN\n",
              "2    5.0\n",
              "3    7.0\n",
              "4    9.0\n",
              "dtype: float64"
            ]
          },
          "metadata": {
            "tags": []
          },
          "execution_count": 26
        }
      ]
    },
    {
      "cell_type": "markdown",
      "metadata": {
        "id": "DZhf_JeYYKGQ",
        "colab_type": "text"
      },
      "source": [
        "- pandas에서 NaN은 float형이다!\n",
        "- 그럼 이걸 왜 쓸까?"
      ]
    },
    {
      "cell_type": "code",
      "metadata": {
        "id": "3Tsf2pZUYNg2",
        "colab_type": "code",
        "colab": {
          "base_uri": "https://localhost:8080/",
          "height": 35
        },
        "outputId": "34e08768-c81c-4089-a71c-4c7e230e384c"
      },
      "source": [
        "# 그럼 nan 대신에 값이 비어있다는 것을 -1로 대체해버리면?\n",
        "# 저장시엔 문제가 없지만, 데이터 분석 시에 문제가된다.\n",
        "odd = [1,-1,5,7,9]\n",
        "odd = pd.Series(odd)\n",
        "odd.dtypes"
      ],
      "execution_count": 27,
      "outputs": [
        {
          "output_type": "execute_result",
          "data": {
            "text/plain": [
              "dtype('int64')"
            ]
          },
          "metadata": {
            "tags": []
          },
          "execution_count": 27
        }
      ]
    },
    {
      "cell_type": "code",
      "metadata": {
        "id": "pPswpjgRYsOr",
        "colab_type": "code",
        "colab": {
          "base_uri": "https://localhost:8080/",
          "height": 35
        },
        "outputId": "fae65df8-96eb-4a08-cc7d-02fcb09ac435"
      },
      "source": [
        "odd.mean()"
      ],
      "execution_count": 28,
      "outputs": [
        {
          "output_type": "execute_result",
          "data": {
            "text/plain": [
              "4.2"
            ]
          },
          "metadata": {
            "tags": []
          },
          "execution_count": 28
        }
      ]
    },
    {
      "cell_type": "markdown",
      "metadata": {
        "id": "Oao62V05Y22T",
        "colab_type": "text"
      },
      "source": [
        "### NaN의 처리\n",
        "- NaN 끼리는 서로 비교할 수 없다."
      ]
    },
    {
      "cell_type": "code",
      "metadata": {
        "id": "6L50U5EGYtZS",
        "colab_type": "code",
        "colab": {
          "base_uri": "https://localhost:8080/",
          "height": 35
        },
        "outputId": "90539ce1-47f1-42a6-c6e7-dc544c23a45a"
      },
      "source": [
        "np.nan == np.nan"
      ],
      "execution_count": 29,
      "outputs": [
        {
          "output_type": "execute_result",
          "data": {
            "text/plain": [
              "False"
            ]
          },
          "metadata": {
            "tags": []
          },
          "execution_count": 29
        }
      ]
    },
    {
      "cell_type": "code",
      "metadata": {
        "id": "qqB_8lmPY18X",
        "colab_type": "code",
        "colab": {
          "base_uri": "https://localhost:8080/",
          "height": 35
        },
        "outputId": "17760256-7acf-4006-a705-db6c57538f9f"
      },
      "source": [
        "# isnull 비어있으면 true, 안비어있으면 false\n",
        "value = np.nan\n",
        "pd.isnull(value)"
      ],
      "execution_count": 30,
      "outputs": [
        {
          "output_type": "execute_result",
          "data": {
            "text/plain": [
              "True"
            ]
          },
          "metadata": {
            "tags": []
          },
          "execution_count": 30
        }
      ]
    },
    {
      "cell_type": "code",
      "metadata": {
        "id": "KLi5kHTgZA9D",
        "colab_type": "code",
        "colab": {
          "base_uri": "https://localhost:8080/",
          "height": 35
        },
        "outputId": "eb473aa3-134c-4466-9519-769858341f15"
      },
      "source": [
        "# 위의 반대\n",
        "pd.notnull(value)"
      ],
      "execution_count": 31,
      "outputs": [
        {
          "output_type": "execute_result",
          "data": {
            "text/plain": [
              "False"
            ]
          },
          "metadata": {
            "tags": []
          },
          "execution_count": 31
        }
      ]
    },
    {
      "cell_type": "markdown",
      "metadata": {
        "id": "lOCsUh51ZTXA",
        "colab_type": "text"
      },
      "source": [
        "## 3. DataFrame 생성하기"
      ]
    },
    {
      "cell_type": "markdown",
      "metadata": {
        "id": "GapXWw6kbVSG",
        "colab_type": "text"
      },
      "source": [
        "### (1) 2차원 리스트로 만들어주는 방법 (핵비추)"
      ]
    },
    {
      "cell_type": "code",
      "metadata": {
        "id": "JRAX54wIZ3_j",
        "colab_type": "code",
        "colab": {
          "base_uri": "https://localhost:8080/",
          "height": 138
        },
        "outputId": "5c5f9345-28d2-4abb-dd49-c11e51da6f94"
      },
      "source": [
        "order = [\n",
        "    ['2017-01-01', 500, 'confirmed'],\n",
        "    ['2017-01-01', 700, 'confirmed'],\n",
        "    ['2017-01-10', 200, 'caceled'],\n",
        "]\n",
        "\n",
        "order = pd.DataFrame(order)\n",
        "\n",
        "order"
      ],
      "execution_count": 32,
      "outputs": [
        {
          "output_type": "execute_result",
          "data": {
            "text/html": [
              "<div>\n",
              "<style scoped>\n",
              "    .dataframe tbody tr th:only-of-type {\n",
              "        vertical-align: middle;\n",
              "    }\n",
              "\n",
              "    .dataframe tbody tr th {\n",
              "        vertical-align: top;\n",
              "    }\n",
              "\n",
              "    .dataframe thead th {\n",
              "        text-align: right;\n",
              "    }\n",
              "</style>\n",
              "<table border=\"1\" class=\"dataframe\">\n",
              "  <thead>\n",
              "    <tr style=\"text-align: right;\">\n",
              "      <th></th>\n",
              "      <th>0</th>\n",
              "      <th>1</th>\n",
              "      <th>2</th>\n",
              "    </tr>\n",
              "  </thead>\n",
              "  <tbody>\n",
              "    <tr>\n",
              "      <th>0</th>\n",
              "      <td>2017-01-01</td>\n",
              "      <td>500</td>\n",
              "      <td>confirmed</td>\n",
              "    </tr>\n",
              "    <tr>\n",
              "      <th>1</th>\n",
              "      <td>2017-01-01</td>\n",
              "      <td>700</td>\n",
              "      <td>confirmed</td>\n",
              "    </tr>\n",
              "    <tr>\n",
              "      <th>2</th>\n",
              "      <td>2017-01-10</td>\n",
              "      <td>200</td>\n",
              "      <td>caceled</td>\n",
              "    </tr>\n",
              "  </tbody>\n",
              "</table>\n",
              "</div>"
            ],
            "text/plain": [
              "            0    1          2\n",
              "0  2017-01-01  500  confirmed\n",
              "1  2017-01-01  700  confirmed\n",
              "2  2017-01-10  200    caceled"
            ]
          },
          "metadata": {
            "tags": []
          },
          "execution_count": 32
        }
      ]
    },
    {
      "cell_type": "code",
      "metadata": {
        "id": "h568kuY3a4pP",
        "colab_type": "code",
        "colab": {
          "base_uri": "https://localhost:8080/",
          "height": 138
        },
        "outputId": "1e61060b-ea17-4f6f-fcca-7121b9c102e7"
      },
      "source": [
        "order = [\n",
        "    ['2017-01-01', 500, 'confirmed'],\n",
        "    ['2017-01-01', 700, 'confirmed'],\n",
        "    ['2017-01-10', 200, 'caceled'],\n",
        "]\n",
        "\n",
        "columns = ['date', 'price', 'amount']\n",
        "order = pd.DataFrame(order, columns = columns)\n",
        "\n",
        "order"
      ],
      "execution_count": 33,
      "outputs": [
        {
          "output_type": "execute_result",
          "data": {
            "text/html": [
              "<div>\n",
              "<style scoped>\n",
              "    .dataframe tbody tr th:only-of-type {\n",
              "        vertical-align: middle;\n",
              "    }\n",
              "\n",
              "    .dataframe tbody tr th {\n",
              "        vertical-align: top;\n",
              "    }\n",
              "\n",
              "    .dataframe thead th {\n",
              "        text-align: right;\n",
              "    }\n",
              "</style>\n",
              "<table border=\"1\" class=\"dataframe\">\n",
              "  <thead>\n",
              "    <tr style=\"text-align: right;\">\n",
              "      <th></th>\n",
              "      <th>date</th>\n",
              "      <th>price</th>\n",
              "      <th>amount</th>\n",
              "    </tr>\n",
              "  </thead>\n",
              "  <tbody>\n",
              "    <tr>\n",
              "      <th>0</th>\n",
              "      <td>2017-01-01</td>\n",
              "      <td>500</td>\n",
              "      <td>confirmed</td>\n",
              "    </tr>\n",
              "    <tr>\n",
              "      <th>1</th>\n",
              "      <td>2017-01-01</td>\n",
              "      <td>700</td>\n",
              "      <td>confirmed</td>\n",
              "    </tr>\n",
              "    <tr>\n",
              "      <th>2</th>\n",
              "      <td>2017-01-10</td>\n",
              "      <td>200</td>\n",
              "      <td>caceled</td>\n",
              "    </tr>\n",
              "  </tbody>\n",
              "</table>\n",
              "</div>"
            ],
            "text/plain": [
              "         date  price     amount\n",
              "0  2017-01-01    500  confirmed\n",
              "1  2017-01-01    700  confirmed\n",
              "2  2017-01-10    200    caceled"
            ]
          },
          "metadata": {
            "tags": []
          },
          "execution_count": 33
        }
      ]
    },
    {
      "cell_type": "markdown",
      "metadata": {
        "id": "6N7CQM1cadSP",
        "colab_type": "text"
      },
      "source": [
        "- 하지만 이런 방식은 자주 쓰이지 않는다.\n",
        "- Rows, Coulmns를 따로 설정해주어야 한다.\n",
        "- 두개의 명령어 사이에 sync가 되지 않으면 에러가 난다."
      ]
    },
    {
      "cell_type": "code",
      "metadata": {
        "id": "dsTNAIaZbJRG",
        "colab_type": "code",
        "colab": {
          "base_uri": "https://localhost:8080/",
          "height": 400
        },
        "outputId": "dbe06d5b-2db6-4f48-b6d1-1325d8f4e79b"
      },
      "source": [
        "order = [\n",
        "    ['2017-01-01', 500, 'confirmed'],\n",
        "    ['2017-01-01', 700, 'confirmed'],\n",
        "    ['2017-01-10', 200, 'caceled'],\n",
        "]\n",
        "\n",
        "columns = ['date', 'price', 'amount', 'admin']\n",
        "order = pd.DataFrame(order, columns = columns)\n",
        "\n",
        "order"
      ],
      "execution_count": 34,
      "outputs": [
        {
          "output_type": "error",
          "ename": "AssertionError",
          "evalue": "ignored",
          "traceback": [
            "\u001b[0;31m---------------------------------------------------------------------------\u001b[0m",
            "\u001b[0;31mAssertionError\u001b[0m                            Traceback (most recent call last)",
            "\u001b[0;32m<ipython-input-34-edecb0301a1c>\u001b[0m in \u001b[0;36m<module>\u001b[0;34m()\u001b[0m\n\u001b[1;32m      6\u001b[0m \u001b[0;34m\u001b[0m\u001b[0m\n\u001b[1;32m      7\u001b[0m \u001b[0mcolumns\u001b[0m \u001b[0;34m=\u001b[0m \u001b[0;34m[\u001b[0m\u001b[0;34m'date'\u001b[0m\u001b[0;34m,\u001b[0m \u001b[0;34m'price'\u001b[0m\u001b[0;34m,\u001b[0m \u001b[0;34m'amount'\u001b[0m\u001b[0;34m,\u001b[0m \u001b[0;34m'admin'\u001b[0m\u001b[0;34m]\u001b[0m\u001b[0;34m\u001b[0m\u001b[0;34m\u001b[0m\u001b[0m\n\u001b[0;32m----> 8\u001b[0;31m \u001b[0morder\u001b[0m \u001b[0;34m=\u001b[0m \u001b[0mpd\u001b[0m\u001b[0;34m.\u001b[0m\u001b[0mDataFrame\u001b[0m\u001b[0;34m(\u001b[0m\u001b[0morder\u001b[0m\u001b[0;34m,\u001b[0m \u001b[0mcolumns\u001b[0m \u001b[0;34m=\u001b[0m \u001b[0mcolumns\u001b[0m\u001b[0;34m)\u001b[0m\u001b[0;34m\u001b[0m\u001b[0;34m\u001b[0m\u001b[0m\n\u001b[0m\u001b[1;32m      9\u001b[0m \u001b[0;34m\u001b[0m\u001b[0m\n\u001b[1;32m     10\u001b[0m \u001b[0morder\u001b[0m\u001b[0;34m\u001b[0m\u001b[0;34m\u001b[0m\u001b[0m\n",
            "\u001b[0;32m/usr/local/lib/python3.6/dist-packages/pandas/core/frame.py\u001b[0m in \u001b[0;36m__init__\u001b[0;34m(self, data, index, columns, dtype, copy)\u001b[0m\n\u001b[1;32m    433\u001b[0m                     \u001b[0;32mif\u001b[0m \u001b[0mis_named_tuple\u001b[0m\u001b[0;34m(\u001b[0m\u001b[0mdata\u001b[0m\u001b[0;34m[\u001b[0m\u001b[0;36m0\u001b[0m\u001b[0;34m]\u001b[0m\u001b[0;34m)\u001b[0m \u001b[0;32mand\u001b[0m \u001b[0mcolumns\u001b[0m \u001b[0;32mis\u001b[0m \u001b[0;32mNone\u001b[0m\u001b[0;34m:\u001b[0m\u001b[0;34m\u001b[0m\u001b[0;34m\u001b[0m\u001b[0m\n\u001b[1;32m    434\u001b[0m                         \u001b[0mcolumns\u001b[0m \u001b[0;34m=\u001b[0m \u001b[0mdata\u001b[0m\u001b[0;34m[\u001b[0m\u001b[0;36m0\u001b[0m\u001b[0;34m]\u001b[0m\u001b[0;34m.\u001b[0m\u001b[0m_fields\u001b[0m\u001b[0;34m\u001b[0m\u001b[0;34m\u001b[0m\u001b[0m\n\u001b[0;32m--> 435\u001b[0;31m                     \u001b[0marrays\u001b[0m\u001b[0;34m,\u001b[0m \u001b[0mcolumns\u001b[0m \u001b[0;34m=\u001b[0m \u001b[0mto_arrays\u001b[0m\u001b[0;34m(\u001b[0m\u001b[0mdata\u001b[0m\u001b[0;34m,\u001b[0m \u001b[0mcolumns\u001b[0m\u001b[0;34m,\u001b[0m \u001b[0mdtype\u001b[0m\u001b[0;34m=\u001b[0m\u001b[0mdtype\u001b[0m\u001b[0;34m)\u001b[0m\u001b[0;34m\u001b[0m\u001b[0;34m\u001b[0m\u001b[0m\n\u001b[0m\u001b[1;32m    436\u001b[0m                     \u001b[0mcolumns\u001b[0m \u001b[0;34m=\u001b[0m \u001b[0mensure_index\u001b[0m\u001b[0;34m(\u001b[0m\u001b[0mcolumns\u001b[0m\u001b[0;34m)\u001b[0m\u001b[0;34m\u001b[0m\u001b[0;34m\u001b[0m\u001b[0m\n\u001b[1;32m    437\u001b[0m \u001b[0;34m\u001b[0m\u001b[0m\n",
            "\u001b[0;32m/usr/local/lib/python3.6/dist-packages/pandas/core/internals/construction.py\u001b[0m in \u001b[0;36mto_arrays\u001b[0;34m(data, columns, coerce_float, dtype)\u001b[0m\n\u001b[1;32m    402\u001b[0m     \u001b[0;32mif\u001b[0m \u001b[0misinstance\u001b[0m\u001b[0;34m(\u001b[0m\u001b[0mdata\u001b[0m\u001b[0;34m[\u001b[0m\u001b[0;36m0\u001b[0m\u001b[0;34m]\u001b[0m\u001b[0;34m,\u001b[0m \u001b[0;34m(\u001b[0m\u001b[0mlist\u001b[0m\u001b[0;34m,\u001b[0m \u001b[0mtuple\u001b[0m\u001b[0;34m)\u001b[0m\u001b[0;34m)\u001b[0m\u001b[0;34m:\u001b[0m\u001b[0;34m\u001b[0m\u001b[0;34m\u001b[0m\u001b[0m\n\u001b[1;32m    403\u001b[0m         return _list_to_arrays(data, columns, coerce_float=coerce_float,\n\u001b[0;32m--> 404\u001b[0;31m                                dtype=dtype)\n\u001b[0m\u001b[1;32m    405\u001b[0m     \u001b[0;32melif\u001b[0m \u001b[0misinstance\u001b[0m\u001b[0;34m(\u001b[0m\u001b[0mdata\u001b[0m\u001b[0;34m[\u001b[0m\u001b[0;36m0\u001b[0m\u001b[0;34m]\u001b[0m\u001b[0;34m,\u001b[0m \u001b[0mcompat\u001b[0m\u001b[0;34m.\u001b[0m\u001b[0mMapping\u001b[0m\u001b[0;34m)\u001b[0m\u001b[0;34m:\u001b[0m\u001b[0;34m\u001b[0m\u001b[0;34m\u001b[0m\u001b[0m\n\u001b[1;32m    406\u001b[0m         return _list_of_dict_to_arrays(data, columns,\n",
            "\u001b[0;32m/usr/local/lib/python3.6/dist-packages/pandas/core/internals/construction.py\u001b[0m in \u001b[0;36m_list_to_arrays\u001b[0;34m(data, columns, coerce_float, dtype)\u001b[0m\n\u001b[1;32m    434\u001b[0m         \u001b[0mcontent\u001b[0m \u001b[0;34m=\u001b[0m \u001b[0mlist\u001b[0m\u001b[0;34m(\u001b[0m\u001b[0mlib\u001b[0m\u001b[0;34m.\u001b[0m\u001b[0mto_object_array\u001b[0m\u001b[0;34m(\u001b[0m\u001b[0mdata\u001b[0m\u001b[0;34m)\u001b[0m\u001b[0;34m.\u001b[0m\u001b[0mT\u001b[0m\u001b[0;34m)\u001b[0m\u001b[0;34m\u001b[0m\u001b[0;34m\u001b[0m\u001b[0m\n\u001b[1;32m    435\u001b[0m     return _convert_object_array(content, columns, dtype=dtype,\n\u001b[0;32m--> 436\u001b[0;31m                                  coerce_float=coerce_float)\n\u001b[0m\u001b[1;32m    437\u001b[0m \u001b[0;34m\u001b[0m\u001b[0m\n\u001b[1;32m    438\u001b[0m \u001b[0;34m\u001b[0m\u001b[0m\n",
            "\u001b[0;32m/usr/local/lib/python3.6/dist-packages/pandas/core/internals/construction.py\u001b[0m in \u001b[0;36m_convert_object_array\u001b[0;34m(content, columns, coerce_float, dtype)\u001b[0m\n\u001b[1;32m    490\u001b[0m             raise AssertionError('{col:d} columns passed, passed data had '\n\u001b[1;32m    491\u001b[0m                                  '{con} columns'.format(col=len(columns),\n\u001b[0;32m--> 492\u001b[0;31m                                                         con=len(content)))\n\u001b[0m\u001b[1;32m    493\u001b[0m \u001b[0;34m\u001b[0m\u001b[0m\n\u001b[1;32m    494\u001b[0m     \u001b[0;31m# provide soft conversion of object dtypes\u001b[0m\u001b[0;34m\u001b[0m\u001b[0;34m\u001b[0m\u001b[0;34m\u001b[0m\u001b[0m\n",
            "\u001b[0;31mAssertionError\u001b[0m: 4 columns passed, passed data had 3 columns"
          ]
        }
      ]
    },
    {
      "cell_type": "markdown",
      "metadata": {
        "id": "gP7k1Us-aYWj",
        "colab_type": "text"
      },
      "source": [
        "### (2) Dictionary 형태로 만들어 주는 방법 (python, pandas에서 추천)\n",
        "- 주의사항: row와 column 개수 맞춰줘야함 안그러면 에러"
      ]
    },
    {
      "cell_type": "code",
      "metadata": {
        "id": "gJL6BVGQaTwF",
        "colab_type": "code",
        "colab": {
          "base_uri": "https://localhost:8080/",
          "height": 138
        },
        "outputId": "57bd48ab-b376-4c93-89f2-39168829c1b7"
      },
      "source": [
        "order = {\n",
        "    'date':['2017-01-01', '2017-01-03', '2017-01-10'],\n",
        "    'price':[500, 700, 200],\n",
        "    'state': ['confirmed', 'confirmed', 'canceled']\n",
        "}\n",
        "\n",
        "order = pd.DataFrame(order)\n",
        "order"
      ],
      "execution_count": 35,
      "outputs": [
        {
          "output_type": "execute_result",
          "data": {
            "text/html": [
              "<div>\n",
              "<style scoped>\n",
              "    .dataframe tbody tr th:only-of-type {\n",
              "        vertical-align: middle;\n",
              "    }\n",
              "\n",
              "    .dataframe tbody tr th {\n",
              "        vertical-align: top;\n",
              "    }\n",
              "\n",
              "    .dataframe thead th {\n",
              "        text-align: right;\n",
              "    }\n",
              "</style>\n",
              "<table border=\"1\" class=\"dataframe\">\n",
              "  <thead>\n",
              "    <tr style=\"text-align: right;\">\n",
              "      <th></th>\n",
              "      <th>date</th>\n",
              "      <th>price</th>\n",
              "      <th>state</th>\n",
              "    </tr>\n",
              "  </thead>\n",
              "  <tbody>\n",
              "    <tr>\n",
              "      <th>0</th>\n",
              "      <td>2017-01-01</td>\n",
              "      <td>500</td>\n",
              "      <td>confirmed</td>\n",
              "    </tr>\n",
              "    <tr>\n",
              "      <th>1</th>\n",
              "      <td>2017-01-03</td>\n",
              "      <td>700</td>\n",
              "      <td>confirmed</td>\n",
              "    </tr>\n",
              "    <tr>\n",
              "      <th>2</th>\n",
              "      <td>2017-01-10</td>\n",
              "      <td>200</td>\n",
              "      <td>canceled</td>\n",
              "    </tr>\n",
              "  </tbody>\n",
              "</table>\n",
              "</div>"
            ],
            "text/plain": [
              "         date  price      state\n",
              "0  2017-01-01    500  confirmed\n",
              "1  2017-01-03    700  confirmed\n",
              "2  2017-01-10    200   canceled"
            ]
          },
          "metadata": {
            "tags": []
          },
          "execution_count": 35
        }
      ]
    },
    {
      "cell_type": "code",
      "metadata": {
        "id": "iXUvxeCOdspI",
        "colab_type": "code",
        "colab": {
          "base_uri": "https://localhost:8080/",
          "height": 363
        },
        "outputId": "3aa27ff0-1771-4885-fc86-b54b0b0348e8"
      },
      "source": [
        "order = {\n",
        "    'date':['2017-01-01', '2017-01-03', '2017-01-10'],\n",
        "    'price':[500, 700, 200, 100],\n",
        "    'state': ['confirmed', 'confirmed', 'canceled']\n",
        "}\n",
        "\n",
        "order = pd.DataFrame(order)\n",
        "order"
      ],
      "execution_count": 36,
      "outputs": [
        {
          "output_type": "error",
          "ename": "ValueError",
          "evalue": "ignored",
          "traceback": [
            "\u001b[0;31m---------------------------------------------------------------------------\u001b[0m",
            "\u001b[0;31mValueError\u001b[0m                                Traceback (most recent call last)",
            "\u001b[0;32m<ipython-input-36-408169092901>\u001b[0m in \u001b[0;36m<module>\u001b[0;34m()\u001b[0m\n\u001b[1;32m      5\u001b[0m }\n\u001b[1;32m      6\u001b[0m \u001b[0;34m\u001b[0m\u001b[0m\n\u001b[0;32m----> 7\u001b[0;31m \u001b[0morder\u001b[0m \u001b[0;34m=\u001b[0m \u001b[0mpd\u001b[0m\u001b[0;34m.\u001b[0m\u001b[0mDataFrame\u001b[0m\u001b[0;34m(\u001b[0m\u001b[0morder\u001b[0m\u001b[0;34m)\u001b[0m\u001b[0;34m\u001b[0m\u001b[0;34m\u001b[0m\u001b[0m\n\u001b[0m\u001b[1;32m      8\u001b[0m \u001b[0morder\u001b[0m\u001b[0;34m\u001b[0m\u001b[0;34m\u001b[0m\u001b[0m\n",
            "\u001b[0;32m/usr/local/lib/python3.6/dist-packages/pandas/core/frame.py\u001b[0m in \u001b[0;36m__init__\u001b[0;34m(self, data, index, columns, dtype, copy)\u001b[0m\n\u001b[1;32m    390\u001b[0m                                  dtype=dtype, copy=copy)\n\u001b[1;32m    391\u001b[0m         \u001b[0;32melif\u001b[0m \u001b[0misinstance\u001b[0m\u001b[0;34m(\u001b[0m\u001b[0mdata\u001b[0m\u001b[0;34m,\u001b[0m \u001b[0mdict\u001b[0m\u001b[0;34m)\u001b[0m\u001b[0;34m:\u001b[0m\u001b[0;34m\u001b[0m\u001b[0;34m\u001b[0m\u001b[0m\n\u001b[0;32m--> 392\u001b[0;31m             \u001b[0mmgr\u001b[0m \u001b[0;34m=\u001b[0m \u001b[0minit_dict\u001b[0m\u001b[0;34m(\u001b[0m\u001b[0mdata\u001b[0m\u001b[0;34m,\u001b[0m \u001b[0mindex\u001b[0m\u001b[0;34m,\u001b[0m \u001b[0mcolumns\u001b[0m\u001b[0;34m,\u001b[0m \u001b[0mdtype\u001b[0m\u001b[0;34m=\u001b[0m\u001b[0mdtype\u001b[0m\u001b[0;34m)\u001b[0m\u001b[0;34m\u001b[0m\u001b[0;34m\u001b[0m\u001b[0m\n\u001b[0m\u001b[1;32m    393\u001b[0m         \u001b[0;32melif\u001b[0m \u001b[0misinstance\u001b[0m\u001b[0;34m(\u001b[0m\u001b[0mdata\u001b[0m\u001b[0;34m,\u001b[0m \u001b[0mma\u001b[0m\u001b[0;34m.\u001b[0m\u001b[0mMaskedArray\u001b[0m\u001b[0;34m)\u001b[0m\u001b[0;34m:\u001b[0m\u001b[0;34m\u001b[0m\u001b[0;34m\u001b[0m\u001b[0m\n\u001b[1;32m    394\u001b[0m             \u001b[0;32mimport\u001b[0m \u001b[0mnumpy\u001b[0m\u001b[0;34m.\u001b[0m\u001b[0mma\u001b[0m\u001b[0;34m.\u001b[0m\u001b[0mmrecords\u001b[0m \u001b[0;32mas\u001b[0m \u001b[0mmrecords\u001b[0m\u001b[0;34m\u001b[0m\u001b[0;34m\u001b[0m\u001b[0m\n",
            "\u001b[0;32m/usr/local/lib/python3.6/dist-packages/pandas/core/internals/construction.py\u001b[0m in \u001b[0;36minit_dict\u001b[0;34m(data, index, columns, dtype)\u001b[0m\n\u001b[1;32m    210\u001b[0m         \u001b[0marrays\u001b[0m \u001b[0;34m=\u001b[0m \u001b[0;34m[\u001b[0m\u001b[0mdata\u001b[0m\u001b[0;34m[\u001b[0m\u001b[0mk\u001b[0m\u001b[0;34m]\u001b[0m \u001b[0;32mfor\u001b[0m \u001b[0mk\u001b[0m \u001b[0;32min\u001b[0m \u001b[0mkeys\u001b[0m\u001b[0;34m]\u001b[0m\u001b[0;34m\u001b[0m\u001b[0;34m\u001b[0m\u001b[0m\n\u001b[1;32m    211\u001b[0m \u001b[0;34m\u001b[0m\u001b[0m\n\u001b[0;32m--> 212\u001b[0;31m     \u001b[0;32mreturn\u001b[0m \u001b[0marrays_to_mgr\u001b[0m\u001b[0;34m(\u001b[0m\u001b[0marrays\u001b[0m\u001b[0;34m,\u001b[0m \u001b[0mdata_names\u001b[0m\u001b[0;34m,\u001b[0m \u001b[0mindex\u001b[0m\u001b[0;34m,\u001b[0m \u001b[0mcolumns\u001b[0m\u001b[0;34m,\u001b[0m \u001b[0mdtype\u001b[0m\u001b[0;34m=\u001b[0m\u001b[0mdtype\u001b[0m\u001b[0;34m)\u001b[0m\u001b[0;34m\u001b[0m\u001b[0;34m\u001b[0m\u001b[0m\n\u001b[0m\u001b[1;32m    213\u001b[0m \u001b[0;34m\u001b[0m\u001b[0m\n\u001b[1;32m    214\u001b[0m \u001b[0;34m\u001b[0m\u001b[0m\n",
            "\u001b[0;32m/usr/local/lib/python3.6/dist-packages/pandas/core/internals/construction.py\u001b[0m in \u001b[0;36marrays_to_mgr\u001b[0;34m(arrays, arr_names, index, columns, dtype)\u001b[0m\n\u001b[1;32m     49\u001b[0m     \u001b[0;31m# figure out the index, if necessary\u001b[0m\u001b[0;34m\u001b[0m\u001b[0;34m\u001b[0m\u001b[0;34m\u001b[0m\u001b[0m\n\u001b[1;32m     50\u001b[0m     \u001b[0;32mif\u001b[0m \u001b[0mindex\u001b[0m \u001b[0;32mis\u001b[0m \u001b[0;32mNone\u001b[0m\u001b[0;34m:\u001b[0m\u001b[0;34m\u001b[0m\u001b[0;34m\u001b[0m\u001b[0m\n\u001b[0;32m---> 51\u001b[0;31m         \u001b[0mindex\u001b[0m \u001b[0;34m=\u001b[0m \u001b[0mextract_index\u001b[0m\u001b[0;34m(\u001b[0m\u001b[0marrays\u001b[0m\u001b[0;34m)\u001b[0m\u001b[0;34m\u001b[0m\u001b[0;34m\u001b[0m\u001b[0m\n\u001b[0m\u001b[1;32m     52\u001b[0m     \u001b[0;32melse\u001b[0m\u001b[0;34m:\u001b[0m\u001b[0;34m\u001b[0m\u001b[0;34m\u001b[0m\u001b[0m\n\u001b[1;32m     53\u001b[0m         \u001b[0mindex\u001b[0m \u001b[0;34m=\u001b[0m \u001b[0mensure_index\u001b[0m\u001b[0;34m(\u001b[0m\u001b[0mindex\u001b[0m\u001b[0;34m)\u001b[0m\u001b[0;34m\u001b[0m\u001b[0;34m\u001b[0m\u001b[0m\n",
            "\u001b[0;32m/usr/local/lib/python3.6/dist-packages/pandas/core/internals/construction.py\u001b[0m in \u001b[0;36mextract_index\u001b[0;34m(data)\u001b[0m\n\u001b[1;32m    315\u001b[0m             \u001b[0mlengths\u001b[0m \u001b[0;34m=\u001b[0m \u001b[0mlist\u001b[0m\u001b[0;34m(\u001b[0m\u001b[0mset\u001b[0m\u001b[0;34m(\u001b[0m\u001b[0mraw_lengths\u001b[0m\u001b[0;34m)\u001b[0m\u001b[0;34m)\u001b[0m\u001b[0;34m\u001b[0m\u001b[0;34m\u001b[0m\u001b[0m\n\u001b[1;32m    316\u001b[0m             \u001b[0;32mif\u001b[0m \u001b[0mlen\u001b[0m\u001b[0;34m(\u001b[0m\u001b[0mlengths\u001b[0m\u001b[0;34m)\u001b[0m \u001b[0;34m>\u001b[0m \u001b[0;36m1\u001b[0m\u001b[0;34m:\u001b[0m\u001b[0;34m\u001b[0m\u001b[0;34m\u001b[0m\u001b[0m\n\u001b[0;32m--> 317\u001b[0;31m                 \u001b[0;32mraise\u001b[0m \u001b[0mValueError\u001b[0m\u001b[0;34m(\u001b[0m\u001b[0;34m'arrays must all be same length'\u001b[0m\u001b[0;34m)\u001b[0m\u001b[0;34m\u001b[0m\u001b[0;34m\u001b[0m\u001b[0m\n\u001b[0m\u001b[1;32m    318\u001b[0m \u001b[0;34m\u001b[0m\u001b[0m\n\u001b[1;32m    319\u001b[0m             \u001b[0;32mif\u001b[0m \u001b[0mhave_dicts\u001b[0m\u001b[0;34m:\u001b[0m\u001b[0;34m\u001b[0m\u001b[0;34m\u001b[0m\u001b[0m\n",
            "\u001b[0;31mValueError\u001b[0m: arrays must all be same length"
          ]
        }
      ]
    },
    {
      "cell_type": "markdown",
      "metadata": {
        "id": "7C1wUPS1cGZO",
        "colab_type": "text"
      },
      "source": [
        "### (3) 리스트 안에 Dictionary를 넣어주는 방법\n",
        "- 주의사항: 이름 오타로 잘못 지어주면 또 이상해짐\n",
        "- 2번 방식보다 더 에러가 많이 뜸\n",
        "- 하지만 현실적으로 하다보면 이걸 선호하게됨\n",
        "- 데이터가 들어올 때 3번방식으로 들어오기 때문에\n",
        "- 외부에서 보통 데이터를 가져올 때 이런식으로 되어있기 때문"
      ]
    },
    {
      "cell_type": "code",
      "metadata": {
        "id": "r-YNZyu9b6P8",
        "colab_type": "code",
        "colab": {
          "base_uri": "https://localhost:8080/",
          "height": 138
        },
        "outputId": "c8317a86-014a-4bfa-c8e9-21316d4d5fad"
      },
      "source": [
        "order = [\n",
        "    {'date': '2017-01-01', 'price': 500, 'state':'confirmed'},\n",
        "    {'date': '2017-01-03', 'price': 700, 'state':'confirmed'},\n",
        "    {'date': '2017-01-10', 'price': 200, 'state':'canceled'},\n",
        "]\n",
        "order = pd.DataFrame(order)\n",
        "order"
      ],
      "execution_count": 37,
      "outputs": [
        {
          "output_type": "execute_result",
          "data": {
            "text/html": [
              "<div>\n",
              "<style scoped>\n",
              "    .dataframe tbody tr th:only-of-type {\n",
              "        vertical-align: middle;\n",
              "    }\n",
              "\n",
              "    .dataframe tbody tr th {\n",
              "        vertical-align: top;\n",
              "    }\n",
              "\n",
              "    .dataframe thead th {\n",
              "        text-align: right;\n",
              "    }\n",
              "</style>\n",
              "<table border=\"1\" class=\"dataframe\">\n",
              "  <thead>\n",
              "    <tr style=\"text-align: right;\">\n",
              "      <th></th>\n",
              "      <th>date</th>\n",
              "      <th>price</th>\n",
              "      <th>state</th>\n",
              "    </tr>\n",
              "  </thead>\n",
              "  <tbody>\n",
              "    <tr>\n",
              "      <th>0</th>\n",
              "      <td>2017-01-01</td>\n",
              "      <td>500</td>\n",
              "      <td>confirmed</td>\n",
              "    </tr>\n",
              "    <tr>\n",
              "      <th>1</th>\n",
              "      <td>2017-01-03</td>\n",
              "      <td>700</td>\n",
              "      <td>confirmed</td>\n",
              "    </tr>\n",
              "    <tr>\n",
              "      <th>2</th>\n",
              "      <td>2017-01-10</td>\n",
              "      <td>200</td>\n",
              "      <td>canceled</td>\n",
              "    </tr>\n",
              "  </tbody>\n",
              "</table>\n",
              "</div>"
            ],
            "text/plain": [
              "         date  price      state\n",
              "0  2017-01-01    500  confirmed\n",
              "1  2017-01-03    700  confirmed\n",
              "2  2017-01-10    200   canceled"
            ]
          },
          "metadata": {
            "tags": []
          },
          "execution_count": 37
        }
      ]
    },
    {
      "cell_type": "code",
      "metadata": {
        "id": "hz60Nlp-ch7-",
        "colab_type": "code",
        "colab": {
          "base_uri": "https://localhost:8080/",
          "height": 138
        },
        "outputId": "19c8b925-a56a-4d63-f603-74c37b3fe563"
      },
      "source": [
        "order = [\n",
        "    {'date': '2017-01-01', 'Price': 500, 'state':'confirmed'},\n",
        "    {'date': '2017-01-03', 'price': 700, 'state':'confirmed'},\n",
        "    {'date': '2017-01-10', 'price': 200, 'state':'canceled'},\n",
        "]\n",
        "order = pd.DataFrame(order)\n",
        "order"
      ],
      "execution_count": 38,
      "outputs": [
        {
          "output_type": "execute_result",
          "data": {
            "text/html": [
              "<div>\n",
              "<style scoped>\n",
              "    .dataframe tbody tr th:only-of-type {\n",
              "        vertical-align: middle;\n",
              "    }\n",
              "\n",
              "    .dataframe tbody tr th {\n",
              "        vertical-align: top;\n",
              "    }\n",
              "\n",
              "    .dataframe thead th {\n",
              "        text-align: right;\n",
              "    }\n",
              "</style>\n",
              "<table border=\"1\" class=\"dataframe\">\n",
              "  <thead>\n",
              "    <tr style=\"text-align: right;\">\n",
              "      <th></th>\n",
              "      <th>Price</th>\n",
              "      <th>date</th>\n",
              "      <th>price</th>\n",
              "      <th>state</th>\n",
              "    </tr>\n",
              "  </thead>\n",
              "  <tbody>\n",
              "    <tr>\n",
              "      <th>0</th>\n",
              "      <td>500.0</td>\n",
              "      <td>2017-01-01</td>\n",
              "      <td>NaN</td>\n",
              "      <td>confirmed</td>\n",
              "    </tr>\n",
              "    <tr>\n",
              "      <th>1</th>\n",
              "      <td>NaN</td>\n",
              "      <td>2017-01-03</td>\n",
              "      <td>700.0</td>\n",
              "      <td>confirmed</td>\n",
              "    </tr>\n",
              "    <tr>\n",
              "      <th>2</th>\n",
              "      <td>NaN</td>\n",
              "      <td>2017-01-10</td>\n",
              "      <td>200.0</td>\n",
              "      <td>canceled</td>\n",
              "    </tr>\n",
              "  </tbody>\n",
              "</table>\n",
              "</div>"
            ],
            "text/plain": [
              "   Price        date  price      state\n",
              "0  500.0  2017-01-01    NaN  confirmed\n",
              "1    NaN  2017-01-03  700.0  confirmed\n",
              "2    NaN  2017-01-10  200.0   canceled"
            ]
          },
          "metadata": {
            "tags": []
          },
          "execution_count": 38
        }
      ]
    },
    {
      "cell_type": "markdown",
      "metadata": {
        "id": "1PxnUiI9eLif",
        "colab_type": "text"
      },
      "source": [
        "## Data Load\n",
        "---\n",
        "### 원격으로 File download 데이터 가져올 때 좋음"
      ]
    },
    {
      "cell_type": "code",
      "metadata": {
        "id": "KjsS9N6_dlXQ",
        "colab_type": "code",
        "colab": {
          "base_uri": "https://localhost:8080/",
          "height": 35
        },
        "outputId": "eaa64b68-98b9-41bc-d4fd-a261c44358d4"
      },
      "source": [
        "# csv로 다운받아야되는 것 필요 없음\n",
        "order_url = \"https://bit.ly/dsa-01-order\"\n",
        "\n",
        "order_url"
      ],
      "execution_count": 39,
      "outputs": [
        {
          "output_type": "execute_result",
          "data": {
            "text/plain": [
              "'https://bit.ly/dsa-01-order'"
            ]
          },
          "metadata": {
            "tags": []
          },
          "execution_count": 39
        }
      ]
    },
    {
      "cell_type": "code",
      "metadata": {
        "id": "W4bq4cnwd_BU",
        "colab_type": "code",
        "colab": {
          "base_uri": "https://localhost:8080/",
          "height": 258
        },
        "outputId": "4b13eaa2-d47a-4901-895e-639e9112c4a7"
      },
      "source": [
        "# 결제관련 데이터\n",
        "pd.read_csv(order_url)"
      ],
      "execution_count": 40,
      "outputs": [
        {
          "output_type": "execute_result",
          "data": {
            "text/html": [
              "<div>\n",
              "<style scoped>\n",
              "    .dataframe tbody tr th:only-of-type {\n",
              "        vertical-align: middle;\n",
              "    }\n",
              "\n",
              "    .dataframe tbody tr th {\n",
              "        vertical-align: top;\n",
              "    }\n",
              "\n",
              "    .dataframe thead th {\n",
              "        text-align: right;\n",
              "    }\n",
              "</style>\n",
              "<table border=\"1\" class=\"dataframe\">\n",
              "  <thead>\n",
              "    <tr style=\"text-align: right;\">\n",
              "      <th></th>\n",
              "      <th>id</th>\n",
              "      <th>user_id</th>\n",
              "      <th>product_id</th>\n",
              "      <th>date</th>\n",
              "      <th>price</th>\n",
              "      <th>address</th>\n",
              "      <th>state</th>\n",
              "    </tr>\n",
              "  </thead>\n",
              "  <tbody>\n",
              "    <tr>\n",
              "      <th>0</th>\n",
              "      <td>1</td>\n",
              "      <td>3</td>\n",
              "      <td>9</td>\n",
              "      <td>2017-01-01</td>\n",
              "      <td>500</td>\n",
              "      <td>Seoul</td>\n",
              "      <td>confirmed</td>\n",
              "    </tr>\n",
              "    <tr>\n",
              "      <th>1</th>\n",
              "      <td>2</td>\n",
              "      <td>1</td>\n",
              "      <td>7</td>\n",
              "      <td>2017-01-03</td>\n",
              "      <td>700</td>\n",
              "      <td>Seoul</td>\n",
              "      <td>confirmed</td>\n",
              "    </tr>\n",
              "    <tr>\n",
              "      <th>2</th>\n",
              "      <td>3</td>\n",
              "      <td>3</td>\n",
              "      <td>8</td>\n",
              "      <td>2017-01-03</td>\n",
              "      <td>900</td>\n",
              "      <td>Daejeon</td>\n",
              "      <td>confirmed</td>\n",
              "    </tr>\n",
              "    <tr>\n",
              "      <th>3</th>\n",
              "      <td>4</td>\n",
              "      <td>4</td>\n",
              "      <td>2</td>\n",
              "      <td>2017-01-07</td>\n",
              "      <td>500</td>\n",
              "      <td>NaN</td>\n",
              "      <td>canceled</td>\n",
              "    </tr>\n",
              "    <tr>\n",
              "      <th>4</th>\n",
              "      <td>5</td>\n",
              "      <td>7</td>\n",
              "      <td>3</td>\n",
              "      <td>2017-01-09</td>\n",
              "      <td>700</td>\n",
              "      <td>Incheon</td>\n",
              "      <td>confirmed</td>\n",
              "    </tr>\n",
              "    <tr>\n",
              "      <th>5</th>\n",
              "      <td>6</td>\n",
              "      <td>5</td>\n",
              "      <td>7</td>\n",
              "      <td>2017-01-09</td>\n",
              "      <td>600</td>\n",
              "      <td>Busan</td>\n",
              "      <td>canceled</td>\n",
              "    </tr>\n",
              "    <tr>\n",
              "      <th>6</th>\n",
              "      <td>7</td>\n",
              "      <td>2</td>\n",
              "      <td>5</td>\n",
              "      <td>2017-01-10</td>\n",
              "      <td>200</td>\n",
              "      <td>NaN</td>\n",
              "      <td>canceled</td>\n",
              "    </tr>\n",
              "  </tbody>\n",
              "</table>\n",
              "</div>"
            ],
            "text/plain": [
              "   id  user_id  product_id        date  price  address      state\n",
              "0   1        3           9  2017-01-01    500    Seoul  confirmed\n",
              "1   2        1           7  2017-01-03    700    Seoul  confirmed\n",
              "2   3        3           8  2017-01-03    900  Daejeon  confirmed\n",
              "3   4        4           2  2017-01-07    500      NaN   canceled\n",
              "4   5        7           3  2017-01-09    700  Incheon  confirmed\n",
              "5   6        5           7  2017-01-09    600    Busan   canceled\n",
              "6   7        2           5  2017-01-10    200      NaN   canceled"
            ]
          },
          "metadata": {
            "tags": []
          },
          "execution_count": 40
        }
      ]
    },
    {
      "cell_type": "markdown",
      "metadata": {
        "id": "PoTDKJeke7Sk",
        "colab_type": "text"
      },
      "source": [
        "맨위의 id, user_id 등등 정보를 **`column`**이라고 함"
      ]
    },
    {
      "cell_type": "markdown",
      "metadata": {
        "id": "LciHSC3Lf3_M",
        "colab_type": "text"
      },
      "source": [
        "### Index, Columns, Values\n",
        "- row를 대변할 수 있는 column이 있다?\n",
        "- 그걸 row Index로 쓰고싶다?"
      ]
    },
    {
      "cell_type": "code",
      "metadata": {
        "id": "lgnfXKEseqzB",
        "colab_type": "code",
        "colab": {
          "base_uri": "https://localhost:8080/",
          "height": 288
        },
        "outputId": "173fb199-3e91-4087-817d-9cef74004b51"
      },
      "source": [
        "pd.read_csv(order_url, index_col=\"id\")"
      ],
      "execution_count": 41,
      "outputs": [
        {
          "output_type": "execute_result",
          "data": {
            "text/html": [
              "<div>\n",
              "<style scoped>\n",
              "    .dataframe tbody tr th:only-of-type {\n",
              "        vertical-align: middle;\n",
              "    }\n",
              "\n",
              "    .dataframe tbody tr th {\n",
              "        vertical-align: top;\n",
              "    }\n",
              "\n",
              "    .dataframe thead th {\n",
              "        text-align: right;\n",
              "    }\n",
              "</style>\n",
              "<table border=\"1\" class=\"dataframe\">\n",
              "  <thead>\n",
              "    <tr style=\"text-align: right;\">\n",
              "      <th></th>\n",
              "      <th>user_id</th>\n",
              "      <th>product_id</th>\n",
              "      <th>date</th>\n",
              "      <th>price</th>\n",
              "      <th>address</th>\n",
              "      <th>state</th>\n",
              "    </tr>\n",
              "    <tr>\n",
              "      <th>id</th>\n",
              "      <th></th>\n",
              "      <th></th>\n",
              "      <th></th>\n",
              "      <th></th>\n",
              "      <th></th>\n",
              "      <th></th>\n",
              "    </tr>\n",
              "  </thead>\n",
              "  <tbody>\n",
              "    <tr>\n",
              "      <th>1</th>\n",
              "      <td>3</td>\n",
              "      <td>9</td>\n",
              "      <td>2017-01-01</td>\n",
              "      <td>500</td>\n",
              "      <td>Seoul</td>\n",
              "      <td>confirmed</td>\n",
              "    </tr>\n",
              "    <tr>\n",
              "      <th>2</th>\n",
              "      <td>1</td>\n",
              "      <td>7</td>\n",
              "      <td>2017-01-03</td>\n",
              "      <td>700</td>\n",
              "      <td>Seoul</td>\n",
              "      <td>confirmed</td>\n",
              "    </tr>\n",
              "    <tr>\n",
              "      <th>3</th>\n",
              "      <td>3</td>\n",
              "      <td>8</td>\n",
              "      <td>2017-01-03</td>\n",
              "      <td>900</td>\n",
              "      <td>Daejeon</td>\n",
              "      <td>confirmed</td>\n",
              "    </tr>\n",
              "    <tr>\n",
              "      <th>4</th>\n",
              "      <td>4</td>\n",
              "      <td>2</td>\n",
              "      <td>2017-01-07</td>\n",
              "      <td>500</td>\n",
              "      <td>NaN</td>\n",
              "      <td>canceled</td>\n",
              "    </tr>\n",
              "    <tr>\n",
              "      <th>5</th>\n",
              "      <td>7</td>\n",
              "      <td>3</td>\n",
              "      <td>2017-01-09</td>\n",
              "      <td>700</td>\n",
              "      <td>Incheon</td>\n",
              "      <td>confirmed</td>\n",
              "    </tr>\n",
              "    <tr>\n",
              "      <th>6</th>\n",
              "      <td>5</td>\n",
              "      <td>7</td>\n",
              "      <td>2017-01-09</td>\n",
              "      <td>600</td>\n",
              "      <td>Busan</td>\n",
              "      <td>canceled</td>\n",
              "    </tr>\n",
              "    <tr>\n",
              "      <th>7</th>\n",
              "      <td>2</td>\n",
              "      <td>5</td>\n",
              "      <td>2017-01-10</td>\n",
              "      <td>200</td>\n",
              "      <td>NaN</td>\n",
              "      <td>canceled</td>\n",
              "    </tr>\n",
              "  </tbody>\n",
              "</table>\n",
              "</div>"
            ],
            "text/plain": [
              "    user_id  product_id        date  price  address      state\n",
              "id                                                            \n",
              "1         3           9  2017-01-01    500    Seoul  confirmed\n",
              "2         1           7  2017-01-03    700    Seoul  confirmed\n",
              "3         3           8  2017-01-03    900  Daejeon  confirmed\n",
              "4         4           2  2017-01-07    500      NaN   canceled\n",
              "5         7           3  2017-01-09    700  Incheon  confirmed\n",
              "6         5           7  2017-01-09    600    Busan   canceled\n",
              "7         2           5  2017-01-10    200      NaN   canceled"
            ]
          },
          "metadata": {
            "tags": []
          },
          "execution_count": 41
        }
      ]
    },
    {
      "cell_type": "code",
      "metadata": {
        "id": "Hy1f6zrlgVth",
        "colab_type": "code",
        "colab": {
          "base_uri": "https://localhost:8080/",
          "height": 288
        },
        "outputId": "f6e1aaff-c88e-4a8e-e84e-cebf798036fe"
      },
      "source": [
        "order = pd.read_csv(order_url)\n",
        "order = order.set_index(\"id\")\n",
        "order"
      ],
      "execution_count": 48,
      "outputs": [
        {
          "output_type": "execute_result",
          "data": {
            "text/html": [
              "<div>\n",
              "<style scoped>\n",
              "    .dataframe tbody tr th:only-of-type {\n",
              "        vertical-align: middle;\n",
              "    }\n",
              "\n",
              "    .dataframe tbody tr th {\n",
              "        vertical-align: top;\n",
              "    }\n",
              "\n",
              "    .dataframe thead th {\n",
              "        text-align: right;\n",
              "    }\n",
              "</style>\n",
              "<table border=\"1\" class=\"dataframe\">\n",
              "  <thead>\n",
              "    <tr style=\"text-align: right;\">\n",
              "      <th></th>\n",
              "      <th>user_id</th>\n",
              "      <th>product_id</th>\n",
              "      <th>date</th>\n",
              "      <th>price</th>\n",
              "      <th>address</th>\n",
              "      <th>state</th>\n",
              "    </tr>\n",
              "    <tr>\n",
              "      <th>id</th>\n",
              "      <th></th>\n",
              "      <th></th>\n",
              "      <th></th>\n",
              "      <th></th>\n",
              "      <th></th>\n",
              "      <th></th>\n",
              "    </tr>\n",
              "  </thead>\n",
              "  <tbody>\n",
              "    <tr>\n",
              "      <th>1</th>\n",
              "      <td>3</td>\n",
              "      <td>9</td>\n",
              "      <td>2017-01-01</td>\n",
              "      <td>500</td>\n",
              "      <td>Seoul</td>\n",
              "      <td>confirmed</td>\n",
              "    </tr>\n",
              "    <tr>\n",
              "      <th>2</th>\n",
              "      <td>1</td>\n",
              "      <td>7</td>\n",
              "      <td>2017-01-03</td>\n",
              "      <td>700</td>\n",
              "      <td>Seoul</td>\n",
              "      <td>confirmed</td>\n",
              "    </tr>\n",
              "    <tr>\n",
              "      <th>3</th>\n",
              "      <td>3</td>\n",
              "      <td>8</td>\n",
              "      <td>2017-01-03</td>\n",
              "      <td>900</td>\n",
              "      <td>Daejeon</td>\n",
              "      <td>confirmed</td>\n",
              "    </tr>\n",
              "    <tr>\n",
              "      <th>4</th>\n",
              "      <td>4</td>\n",
              "      <td>2</td>\n",
              "      <td>2017-01-07</td>\n",
              "      <td>500</td>\n",
              "      <td>NaN</td>\n",
              "      <td>canceled</td>\n",
              "    </tr>\n",
              "    <tr>\n",
              "      <th>5</th>\n",
              "      <td>7</td>\n",
              "      <td>3</td>\n",
              "      <td>2017-01-09</td>\n",
              "      <td>700</td>\n",
              "      <td>Incheon</td>\n",
              "      <td>confirmed</td>\n",
              "    </tr>\n",
              "    <tr>\n",
              "      <th>6</th>\n",
              "      <td>5</td>\n",
              "      <td>7</td>\n",
              "      <td>2017-01-09</td>\n",
              "      <td>600</td>\n",
              "      <td>Busan</td>\n",
              "      <td>canceled</td>\n",
              "    </tr>\n",
              "    <tr>\n",
              "      <th>7</th>\n",
              "      <td>2</td>\n",
              "      <td>5</td>\n",
              "      <td>2017-01-10</td>\n",
              "      <td>200</td>\n",
              "      <td>NaN</td>\n",
              "      <td>canceled</td>\n",
              "    </tr>\n",
              "  </tbody>\n",
              "</table>\n",
              "</div>"
            ],
            "text/plain": [
              "    user_id  product_id        date  price  address      state\n",
              "id                                                            \n",
              "1         3           9  2017-01-01    500    Seoul  confirmed\n",
              "2         1           7  2017-01-03    700    Seoul  confirmed\n",
              "3         3           8  2017-01-03    900  Daejeon  confirmed\n",
              "4         4           2  2017-01-07    500      NaN   canceled\n",
              "5         7           3  2017-01-09    700  Incheon  confirmed\n",
              "6         5           7  2017-01-09    600    Busan   canceled\n",
              "7         2           5  2017-01-10    200      NaN   canceled"
            ]
          },
          "metadata": {
            "tags": []
          },
          "execution_count": 48
        }
      ]
    },
    {
      "cell_type": "code",
      "metadata": {
        "id": "4MkWeLOwg324",
        "colab_type": "code",
        "colab": {
          "base_uri": "https://localhost:8080/",
          "height": 35
        },
        "outputId": "5aeb41d5-cbcd-4197-a48e-1d986b5b8d51"
      },
      "source": [
        "order.index"
      ],
      "execution_count": 43,
      "outputs": [
        {
          "output_type": "execute_result",
          "data": {
            "text/plain": [
              "Int64Index([1, 2, 3, 4, 5, 6, 7], dtype='int64', name='id')"
            ]
          },
          "metadata": {
            "tags": []
          },
          "execution_count": 43
        }
      ]
    },
    {
      "cell_type": "code",
      "metadata": {
        "id": "aVGWM_Dgg5nR",
        "colab_type": "code",
        "colab": {
          "base_uri": "https://localhost:8080/",
          "height": 35
        },
        "outputId": "540c8dbe-3e49-4d71-db48-3d13acb947d0"
      },
      "source": [
        "order.columns"
      ],
      "execution_count": 44,
      "outputs": [
        {
          "output_type": "execute_result",
          "data": {
            "text/plain": [
              "Index(['user_id', 'product_id', 'date', 'price', 'address', 'state'], dtype='object')"
            ]
          },
          "metadata": {
            "tags": []
          },
          "execution_count": 44
        }
      ]
    },
    {
      "cell_type": "code",
      "metadata": {
        "id": "Mc_vADcug70o",
        "colab_type": "code",
        "colab": {
          "base_uri": "https://localhost:8080/",
          "height": 138
        },
        "outputId": "32b35f8e-9fe7-4182-fa70-66917ceb43d5"
      },
      "source": [
        "order.values"
      ],
      "execution_count": 45,
      "outputs": [
        {
          "output_type": "execute_result",
          "data": {
            "text/plain": [
              "array([[3, 9, '2017-01-01', 500, 'Seoul', 'confirmed'],\n",
              "       [1, 7, '2017-01-03', 700, 'Seoul', 'confirmed'],\n",
              "       [3, 8, '2017-01-03', 900, 'Daejeon', 'confirmed'],\n",
              "       [4, 2, '2017-01-07', 500, nan, 'canceled'],\n",
              "       [7, 3, '2017-01-09', 700, 'Incheon', 'confirmed'],\n",
              "       [5, 7, '2017-01-09', 600, 'Busan', 'canceled'],\n",
              "       [2, 5, '2017-01-10', 200, nan, 'canceled']], dtype=object)"
            ]
          },
          "metadata": {
            "tags": []
          },
          "execution_count": 45
        }
      ]
    },
    {
      "cell_type": "markdown",
      "metadata": {
        "id": "FvFdFIbHg1jW",
        "colab_type": "text"
      },
      "source": [
        "### Index의 타입\n",
        "- index라고 적혀있지만, Series나 마찬가지다"
      ]
    },
    {
      "cell_type": "code",
      "metadata": {
        "id": "3HJJhVyOgcBd",
        "colab_type": "code",
        "colab": {
          "base_uri": "https://localhost:8080/",
          "height": 35
        },
        "outputId": "c61e20c1-627c-4c71-a2cc-80f986cfcd67"
      },
      "source": [
        "type(order.index)"
      ],
      "execution_count": 46,
      "outputs": [
        {
          "output_type": "execute_result",
          "data": {
            "text/plain": [
              "pandas.core.indexes.numeric.Int64Index"
            ]
          },
          "metadata": {
            "tags": []
          },
          "execution_count": 46
        }
      ]
    },
    {
      "cell_type": "markdown",
      "metadata": {
        "id": "xuPkVXrTh0Qu",
        "colab_type": "text"
      },
      "source": [
        "### column 바꿔주기"
      ]
    },
    {
      "cell_type": "code",
      "metadata": {
        "id": "RxNc5CxDhbJh",
        "colab_type": "code",
        "colab": {
          "base_uri": "https://localhost:8080/",
          "height": 288
        },
        "outputId": "db9a618c-bf29-4084-f5f2-22b54eecf092"
      },
      "source": [
        "order.columns = ['user_id', 'product_id', 'date', 'amount', 'address', 'result' ]\n",
        "order"
      ],
      "execution_count": 50,
      "outputs": [
        {
          "output_type": "execute_result",
          "data": {
            "text/html": [
              "<div>\n",
              "<style scoped>\n",
              "    .dataframe tbody tr th:only-of-type {\n",
              "        vertical-align: middle;\n",
              "    }\n",
              "\n",
              "    .dataframe tbody tr th {\n",
              "        vertical-align: top;\n",
              "    }\n",
              "\n",
              "    .dataframe thead th {\n",
              "        text-align: right;\n",
              "    }\n",
              "</style>\n",
              "<table border=\"1\" class=\"dataframe\">\n",
              "  <thead>\n",
              "    <tr style=\"text-align: right;\">\n",
              "      <th></th>\n",
              "      <th>user_id</th>\n",
              "      <th>product_id</th>\n",
              "      <th>date</th>\n",
              "      <th>amount</th>\n",
              "      <th>address</th>\n",
              "      <th>result</th>\n",
              "    </tr>\n",
              "    <tr>\n",
              "      <th>id</th>\n",
              "      <th></th>\n",
              "      <th></th>\n",
              "      <th></th>\n",
              "      <th></th>\n",
              "      <th></th>\n",
              "      <th></th>\n",
              "    </tr>\n",
              "  </thead>\n",
              "  <tbody>\n",
              "    <tr>\n",
              "      <th>1</th>\n",
              "      <td>3</td>\n",
              "      <td>9</td>\n",
              "      <td>2017-01-01</td>\n",
              "      <td>500</td>\n",
              "      <td>Seoul</td>\n",
              "      <td>confirmed</td>\n",
              "    </tr>\n",
              "    <tr>\n",
              "      <th>2</th>\n",
              "      <td>1</td>\n",
              "      <td>7</td>\n",
              "      <td>2017-01-03</td>\n",
              "      <td>700</td>\n",
              "      <td>Seoul</td>\n",
              "      <td>confirmed</td>\n",
              "    </tr>\n",
              "    <tr>\n",
              "      <th>3</th>\n",
              "      <td>3</td>\n",
              "      <td>8</td>\n",
              "      <td>2017-01-03</td>\n",
              "      <td>900</td>\n",
              "      <td>Daejeon</td>\n",
              "      <td>confirmed</td>\n",
              "    </tr>\n",
              "    <tr>\n",
              "      <th>4</th>\n",
              "      <td>4</td>\n",
              "      <td>2</td>\n",
              "      <td>2017-01-07</td>\n",
              "      <td>500</td>\n",
              "      <td>NaN</td>\n",
              "      <td>canceled</td>\n",
              "    </tr>\n",
              "    <tr>\n",
              "      <th>5</th>\n",
              "      <td>7</td>\n",
              "      <td>3</td>\n",
              "      <td>2017-01-09</td>\n",
              "      <td>700</td>\n",
              "      <td>Incheon</td>\n",
              "      <td>confirmed</td>\n",
              "    </tr>\n",
              "    <tr>\n",
              "      <th>6</th>\n",
              "      <td>5</td>\n",
              "      <td>7</td>\n",
              "      <td>2017-01-09</td>\n",
              "      <td>600</td>\n",
              "      <td>Busan</td>\n",
              "      <td>canceled</td>\n",
              "    </tr>\n",
              "    <tr>\n",
              "      <th>7</th>\n",
              "      <td>2</td>\n",
              "      <td>5</td>\n",
              "      <td>2017-01-10</td>\n",
              "      <td>200</td>\n",
              "      <td>NaN</td>\n",
              "      <td>canceled</td>\n",
              "    </tr>\n",
              "  </tbody>\n",
              "</table>\n",
              "</div>"
            ],
            "text/plain": [
              "    user_id  product_id        date  amount  address     result\n",
              "id                                                             \n",
              "1         3           9  2017-01-01     500    Seoul  confirmed\n",
              "2         1           7  2017-01-03     700    Seoul  confirmed\n",
              "3         3           8  2017-01-03     900  Daejeon  confirmed\n",
              "4         4           2  2017-01-07     500      NaN   canceled\n",
              "5         7           3  2017-01-09     700  Incheon  confirmed\n",
              "6         5           7  2017-01-09     600    Busan   canceled\n",
              "7         2           5  2017-01-10     200      NaN   canceled"
            ]
          },
          "metadata": {
            "tags": []
          },
          "execution_count": 50
        }
      ]
    },
    {
      "cell_type": "markdown",
      "metadata": {
        "id": "b4Oz1JT3icEJ",
        "colab_type": "text"
      },
      "source": [
        "### Head, Tail\n",
        "- 데이터가 많아졌을 때, 다띄우면 지저분해보인다.\n"
      ]
    },
    {
      "cell_type": "code",
      "metadata": {
        "id": "xE7cFtxthySY",
        "colab_type": "code",
        "colab": {
          "base_uri": "https://localhost:8080/",
          "height": 228
        },
        "outputId": "5ff82d66-0ac8-4612-a90a-6cbb51fe3444"
      },
      "source": [
        "#default 5개 띄워줌\n",
        "order.head()"
      ],
      "execution_count": 52,
      "outputs": [
        {
          "output_type": "execute_result",
          "data": {
            "text/html": [
              "<div>\n",
              "<style scoped>\n",
              "    .dataframe tbody tr th:only-of-type {\n",
              "        vertical-align: middle;\n",
              "    }\n",
              "\n",
              "    .dataframe tbody tr th {\n",
              "        vertical-align: top;\n",
              "    }\n",
              "\n",
              "    .dataframe thead th {\n",
              "        text-align: right;\n",
              "    }\n",
              "</style>\n",
              "<table border=\"1\" class=\"dataframe\">\n",
              "  <thead>\n",
              "    <tr style=\"text-align: right;\">\n",
              "      <th></th>\n",
              "      <th>user_id</th>\n",
              "      <th>product_id</th>\n",
              "      <th>date</th>\n",
              "      <th>amount</th>\n",
              "      <th>address</th>\n",
              "      <th>result</th>\n",
              "    </tr>\n",
              "    <tr>\n",
              "      <th>id</th>\n",
              "      <th></th>\n",
              "      <th></th>\n",
              "      <th></th>\n",
              "      <th></th>\n",
              "      <th></th>\n",
              "      <th></th>\n",
              "    </tr>\n",
              "  </thead>\n",
              "  <tbody>\n",
              "    <tr>\n",
              "      <th>1</th>\n",
              "      <td>3</td>\n",
              "      <td>9</td>\n",
              "      <td>2017-01-01</td>\n",
              "      <td>500</td>\n",
              "      <td>Seoul</td>\n",
              "      <td>confirmed</td>\n",
              "    </tr>\n",
              "    <tr>\n",
              "      <th>2</th>\n",
              "      <td>1</td>\n",
              "      <td>7</td>\n",
              "      <td>2017-01-03</td>\n",
              "      <td>700</td>\n",
              "      <td>Seoul</td>\n",
              "      <td>confirmed</td>\n",
              "    </tr>\n",
              "    <tr>\n",
              "      <th>3</th>\n",
              "      <td>3</td>\n",
              "      <td>8</td>\n",
              "      <td>2017-01-03</td>\n",
              "      <td>900</td>\n",
              "      <td>Daejeon</td>\n",
              "      <td>confirmed</td>\n",
              "    </tr>\n",
              "    <tr>\n",
              "      <th>4</th>\n",
              "      <td>4</td>\n",
              "      <td>2</td>\n",
              "      <td>2017-01-07</td>\n",
              "      <td>500</td>\n",
              "      <td>NaN</td>\n",
              "      <td>canceled</td>\n",
              "    </tr>\n",
              "    <tr>\n",
              "      <th>5</th>\n",
              "      <td>7</td>\n",
              "      <td>3</td>\n",
              "      <td>2017-01-09</td>\n",
              "      <td>700</td>\n",
              "      <td>Incheon</td>\n",
              "      <td>confirmed</td>\n",
              "    </tr>\n",
              "  </tbody>\n",
              "</table>\n",
              "</div>"
            ],
            "text/plain": [
              "    user_id  product_id        date  amount  address     result\n",
              "id                                                             \n",
              "1         3           9  2017-01-01     500    Seoul  confirmed\n",
              "2         1           7  2017-01-03     700    Seoul  confirmed\n",
              "3         3           8  2017-01-03     900  Daejeon  confirmed\n",
              "4         4           2  2017-01-07     500      NaN   canceled\n",
              "5         7           3  2017-01-09     700  Incheon  confirmed"
            ]
          },
          "metadata": {
            "tags": []
          },
          "execution_count": 52
        }
      ]
    },
    {
      "cell_type": "code",
      "metadata": {
        "id": "o1ieohkBiouL",
        "colab_type": "code",
        "colab": {
          "base_uri": "https://localhost:8080/",
          "height": 168
        },
        "outputId": "f28b2b4d-31d9-43c2-e54c-9e4d7fe66298"
      },
      "source": [
        "order.head(3)"
      ],
      "execution_count": 53,
      "outputs": [
        {
          "output_type": "execute_result",
          "data": {
            "text/html": [
              "<div>\n",
              "<style scoped>\n",
              "    .dataframe tbody tr th:only-of-type {\n",
              "        vertical-align: middle;\n",
              "    }\n",
              "\n",
              "    .dataframe tbody tr th {\n",
              "        vertical-align: top;\n",
              "    }\n",
              "\n",
              "    .dataframe thead th {\n",
              "        text-align: right;\n",
              "    }\n",
              "</style>\n",
              "<table border=\"1\" class=\"dataframe\">\n",
              "  <thead>\n",
              "    <tr style=\"text-align: right;\">\n",
              "      <th></th>\n",
              "      <th>user_id</th>\n",
              "      <th>product_id</th>\n",
              "      <th>date</th>\n",
              "      <th>amount</th>\n",
              "      <th>address</th>\n",
              "      <th>result</th>\n",
              "    </tr>\n",
              "    <tr>\n",
              "      <th>id</th>\n",
              "      <th></th>\n",
              "      <th></th>\n",
              "      <th></th>\n",
              "      <th></th>\n",
              "      <th></th>\n",
              "      <th></th>\n",
              "    </tr>\n",
              "  </thead>\n",
              "  <tbody>\n",
              "    <tr>\n",
              "      <th>1</th>\n",
              "      <td>3</td>\n",
              "      <td>9</td>\n",
              "      <td>2017-01-01</td>\n",
              "      <td>500</td>\n",
              "      <td>Seoul</td>\n",
              "      <td>confirmed</td>\n",
              "    </tr>\n",
              "    <tr>\n",
              "      <th>2</th>\n",
              "      <td>1</td>\n",
              "      <td>7</td>\n",
              "      <td>2017-01-03</td>\n",
              "      <td>700</td>\n",
              "      <td>Seoul</td>\n",
              "      <td>confirmed</td>\n",
              "    </tr>\n",
              "    <tr>\n",
              "      <th>3</th>\n",
              "      <td>3</td>\n",
              "      <td>8</td>\n",
              "      <td>2017-01-03</td>\n",
              "      <td>900</td>\n",
              "      <td>Daejeon</td>\n",
              "      <td>confirmed</td>\n",
              "    </tr>\n",
              "  </tbody>\n",
              "</table>\n",
              "</div>"
            ],
            "text/plain": [
              "    user_id  product_id        date  amount  address     result\n",
              "id                                                             \n",
              "1         3           9  2017-01-01     500    Seoul  confirmed\n",
              "2         1           7  2017-01-03     700    Seoul  confirmed\n",
              "3         3           8  2017-01-03     900  Daejeon  confirmed"
            ]
          },
          "metadata": {
            "tags": []
          },
          "execution_count": 53
        }
      ]
    },
    {
      "cell_type": "code",
      "metadata": {
        "id": "9cwNA1jWiwaQ",
        "colab_type": "code",
        "colab": {
          "base_uri": "https://localhost:8080/",
          "height": 108
        },
        "outputId": "fad4516e-8ba4-41e4-a4ce-ab271677067d"
      },
      "source": [
        "order.head(1)"
      ],
      "execution_count": 55,
      "outputs": [
        {
          "output_type": "execute_result",
          "data": {
            "text/html": [
              "<div>\n",
              "<style scoped>\n",
              "    .dataframe tbody tr th:only-of-type {\n",
              "        vertical-align: middle;\n",
              "    }\n",
              "\n",
              "    .dataframe tbody tr th {\n",
              "        vertical-align: top;\n",
              "    }\n",
              "\n",
              "    .dataframe thead th {\n",
              "        text-align: right;\n",
              "    }\n",
              "</style>\n",
              "<table border=\"1\" class=\"dataframe\">\n",
              "  <thead>\n",
              "    <tr style=\"text-align: right;\">\n",
              "      <th></th>\n",
              "      <th>user_id</th>\n",
              "      <th>product_id</th>\n",
              "      <th>date</th>\n",
              "      <th>amount</th>\n",
              "      <th>address</th>\n",
              "      <th>result</th>\n",
              "    </tr>\n",
              "    <tr>\n",
              "      <th>id</th>\n",
              "      <th></th>\n",
              "      <th></th>\n",
              "      <th></th>\n",
              "      <th></th>\n",
              "      <th></th>\n",
              "      <th></th>\n",
              "    </tr>\n",
              "  </thead>\n",
              "  <tbody>\n",
              "    <tr>\n",
              "      <th>1</th>\n",
              "      <td>3</td>\n",
              "      <td>9</td>\n",
              "      <td>2017-01-01</td>\n",
              "      <td>500</td>\n",
              "      <td>Seoul</td>\n",
              "      <td>confirmed</td>\n",
              "    </tr>\n",
              "  </tbody>\n",
              "</table>\n",
              "</div>"
            ],
            "text/plain": [
              "    user_id  product_id        date  amount address     result\n",
              "id                                                            \n",
              "1         3           9  2017-01-01     500   Seoul  confirmed"
            ]
          },
          "metadata": {
            "tags": []
          },
          "execution_count": 55
        }
      ]
    },
    {
      "cell_type": "code",
      "metadata": {
        "id": "i6xrAma7izm8",
        "colab_type": "code",
        "colab": {
          "base_uri": "https://localhost:8080/",
          "height": 288
        },
        "outputId": "fd28199b-c079-4a8e-d5a0-0af71030587e"
      },
      "source": [
        "order.head(10)"
      ],
      "execution_count": 56,
      "outputs": [
        {
          "output_type": "execute_result",
          "data": {
            "text/html": [
              "<div>\n",
              "<style scoped>\n",
              "    .dataframe tbody tr th:only-of-type {\n",
              "        vertical-align: middle;\n",
              "    }\n",
              "\n",
              "    .dataframe tbody tr th {\n",
              "        vertical-align: top;\n",
              "    }\n",
              "\n",
              "    .dataframe thead th {\n",
              "        text-align: right;\n",
              "    }\n",
              "</style>\n",
              "<table border=\"1\" class=\"dataframe\">\n",
              "  <thead>\n",
              "    <tr style=\"text-align: right;\">\n",
              "      <th></th>\n",
              "      <th>user_id</th>\n",
              "      <th>product_id</th>\n",
              "      <th>date</th>\n",
              "      <th>amount</th>\n",
              "      <th>address</th>\n",
              "      <th>result</th>\n",
              "    </tr>\n",
              "    <tr>\n",
              "      <th>id</th>\n",
              "      <th></th>\n",
              "      <th></th>\n",
              "      <th></th>\n",
              "      <th></th>\n",
              "      <th></th>\n",
              "      <th></th>\n",
              "    </tr>\n",
              "  </thead>\n",
              "  <tbody>\n",
              "    <tr>\n",
              "      <th>1</th>\n",
              "      <td>3</td>\n",
              "      <td>9</td>\n",
              "      <td>2017-01-01</td>\n",
              "      <td>500</td>\n",
              "      <td>Seoul</td>\n",
              "      <td>confirmed</td>\n",
              "    </tr>\n",
              "    <tr>\n",
              "      <th>2</th>\n",
              "      <td>1</td>\n",
              "      <td>7</td>\n",
              "      <td>2017-01-03</td>\n",
              "      <td>700</td>\n",
              "      <td>Seoul</td>\n",
              "      <td>confirmed</td>\n",
              "    </tr>\n",
              "    <tr>\n",
              "      <th>3</th>\n",
              "      <td>3</td>\n",
              "      <td>8</td>\n",
              "      <td>2017-01-03</td>\n",
              "      <td>900</td>\n",
              "      <td>Daejeon</td>\n",
              "      <td>confirmed</td>\n",
              "    </tr>\n",
              "    <tr>\n",
              "      <th>4</th>\n",
              "      <td>4</td>\n",
              "      <td>2</td>\n",
              "      <td>2017-01-07</td>\n",
              "      <td>500</td>\n",
              "      <td>NaN</td>\n",
              "      <td>canceled</td>\n",
              "    </tr>\n",
              "    <tr>\n",
              "      <th>5</th>\n",
              "      <td>7</td>\n",
              "      <td>3</td>\n",
              "      <td>2017-01-09</td>\n",
              "      <td>700</td>\n",
              "      <td>Incheon</td>\n",
              "      <td>confirmed</td>\n",
              "    </tr>\n",
              "    <tr>\n",
              "      <th>6</th>\n",
              "      <td>5</td>\n",
              "      <td>7</td>\n",
              "      <td>2017-01-09</td>\n",
              "      <td>600</td>\n",
              "      <td>Busan</td>\n",
              "      <td>canceled</td>\n",
              "    </tr>\n",
              "    <tr>\n",
              "      <th>7</th>\n",
              "      <td>2</td>\n",
              "      <td>5</td>\n",
              "      <td>2017-01-10</td>\n",
              "      <td>200</td>\n",
              "      <td>NaN</td>\n",
              "      <td>canceled</td>\n",
              "    </tr>\n",
              "  </tbody>\n",
              "</table>\n",
              "</div>"
            ],
            "text/plain": [
              "    user_id  product_id        date  amount  address     result\n",
              "id                                                             \n",
              "1         3           9  2017-01-01     500    Seoul  confirmed\n",
              "2         1           7  2017-01-03     700    Seoul  confirmed\n",
              "3         3           8  2017-01-03     900  Daejeon  confirmed\n",
              "4         4           2  2017-01-07     500      NaN   canceled\n",
              "5         7           3  2017-01-09     700  Incheon  confirmed\n",
              "6         5           7  2017-01-09     600    Busan   canceled\n",
              "7         2           5  2017-01-10     200      NaN   canceled"
            ]
          },
          "metadata": {
            "tags": []
          },
          "execution_count": 56
        }
      ]
    },
    {
      "cell_type": "code",
      "metadata": {
        "id": "1joP05zFi2Vk",
        "colab_type": "code",
        "colab": {
          "base_uri": "https://localhost:8080/",
          "height": 228
        },
        "outputId": "b158561c-d877-4af7-98ce-e5b2e4b7b632"
      },
      "source": [
        "order.tail()"
      ],
      "execution_count": 57,
      "outputs": [
        {
          "output_type": "execute_result",
          "data": {
            "text/html": [
              "<div>\n",
              "<style scoped>\n",
              "    .dataframe tbody tr th:only-of-type {\n",
              "        vertical-align: middle;\n",
              "    }\n",
              "\n",
              "    .dataframe tbody tr th {\n",
              "        vertical-align: top;\n",
              "    }\n",
              "\n",
              "    .dataframe thead th {\n",
              "        text-align: right;\n",
              "    }\n",
              "</style>\n",
              "<table border=\"1\" class=\"dataframe\">\n",
              "  <thead>\n",
              "    <tr style=\"text-align: right;\">\n",
              "      <th></th>\n",
              "      <th>user_id</th>\n",
              "      <th>product_id</th>\n",
              "      <th>date</th>\n",
              "      <th>amount</th>\n",
              "      <th>address</th>\n",
              "      <th>result</th>\n",
              "    </tr>\n",
              "    <tr>\n",
              "      <th>id</th>\n",
              "      <th></th>\n",
              "      <th></th>\n",
              "      <th></th>\n",
              "      <th></th>\n",
              "      <th></th>\n",
              "      <th></th>\n",
              "    </tr>\n",
              "  </thead>\n",
              "  <tbody>\n",
              "    <tr>\n",
              "      <th>3</th>\n",
              "      <td>3</td>\n",
              "      <td>8</td>\n",
              "      <td>2017-01-03</td>\n",
              "      <td>900</td>\n",
              "      <td>Daejeon</td>\n",
              "      <td>confirmed</td>\n",
              "    </tr>\n",
              "    <tr>\n",
              "      <th>4</th>\n",
              "      <td>4</td>\n",
              "      <td>2</td>\n",
              "      <td>2017-01-07</td>\n",
              "      <td>500</td>\n",
              "      <td>NaN</td>\n",
              "      <td>canceled</td>\n",
              "    </tr>\n",
              "    <tr>\n",
              "      <th>5</th>\n",
              "      <td>7</td>\n",
              "      <td>3</td>\n",
              "      <td>2017-01-09</td>\n",
              "      <td>700</td>\n",
              "      <td>Incheon</td>\n",
              "      <td>confirmed</td>\n",
              "    </tr>\n",
              "    <tr>\n",
              "      <th>6</th>\n",
              "      <td>5</td>\n",
              "      <td>7</td>\n",
              "      <td>2017-01-09</td>\n",
              "      <td>600</td>\n",
              "      <td>Busan</td>\n",
              "      <td>canceled</td>\n",
              "    </tr>\n",
              "    <tr>\n",
              "      <th>7</th>\n",
              "      <td>2</td>\n",
              "      <td>5</td>\n",
              "      <td>2017-01-10</td>\n",
              "      <td>200</td>\n",
              "      <td>NaN</td>\n",
              "      <td>canceled</td>\n",
              "    </tr>\n",
              "  </tbody>\n",
              "</table>\n",
              "</div>"
            ],
            "text/plain": [
              "    user_id  product_id        date  amount  address     result\n",
              "id                                                             \n",
              "3         3           8  2017-01-03     900  Daejeon  confirmed\n",
              "4         4           2  2017-01-07     500      NaN   canceled\n",
              "5         7           3  2017-01-09     700  Incheon  confirmed\n",
              "6         5           7  2017-01-09     600    Busan   canceled\n",
              "7         2           5  2017-01-10     200      NaN   canceled"
            ]
          },
          "metadata": {
            "tags": []
          },
          "execution_count": 57
        }
      ]
    },
    {
      "cell_type": "code",
      "metadata": {
        "id": "MayEHDCFi4aw",
        "colab_type": "code",
        "colab": {
          "base_uri": "https://localhost:8080/",
          "height": 168
        },
        "outputId": "511d2332-9c3d-494c-9435-18b1d480dc61"
      },
      "source": [
        "order.tail(3)"
      ],
      "execution_count": 58,
      "outputs": [
        {
          "output_type": "execute_result",
          "data": {
            "text/html": [
              "<div>\n",
              "<style scoped>\n",
              "    .dataframe tbody tr th:only-of-type {\n",
              "        vertical-align: middle;\n",
              "    }\n",
              "\n",
              "    .dataframe tbody tr th {\n",
              "        vertical-align: top;\n",
              "    }\n",
              "\n",
              "    .dataframe thead th {\n",
              "        text-align: right;\n",
              "    }\n",
              "</style>\n",
              "<table border=\"1\" class=\"dataframe\">\n",
              "  <thead>\n",
              "    <tr style=\"text-align: right;\">\n",
              "      <th></th>\n",
              "      <th>user_id</th>\n",
              "      <th>product_id</th>\n",
              "      <th>date</th>\n",
              "      <th>amount</th>\n",
              "      <th>address</th>\n",
              "      <th>result</th>\n",
              "    </tr>\n",
              "    <tr>\n",
              "      <th>id</th>\n",
              "      <th></th>\n",
              "      <th></th>\n",
              "      <th></th>\n",
              "      <th></th>\n",
              "      <th></th>\n",
              "      <th></th>\n",
              "    </tr>\n",
              "  </thead>\n",
              "  <tbody>\n",
              "    <tr>\n",
              "      <th>5</th>\n",
              "      <td>7</td>\n",
              "      <td>3</td>\n",
              "      <td>2017-01-09</td>\n",
              "      <td>700</td>\n",
              "      <td>Incheon</td>\n",
              "      <td>confirmed</td>\n",
              "    </tr>\n",
              "    <tr>\n",
              "      <th>6</th>\n",
              "      <td>5</td>\n",
              "      <td>7</td>\n",
              "      <td>2017-01-09</td>\n",
              "      <td>600</td>\n",
              "      <td>Busan</td>\n",
              "      <td>canceled</td>\n",
              "    </tr>\n",
              "    <tr>\n",
              "      <th>7</th>\n",
              "      <td>2</td>\n",
              "      <td>5</td>\n",
              "      <td>2017-01-10</td>\n",
              "      <td>200</td>\n",
              "      <td>NaN</td>\n",
              "      <td>canceled</td>\n",
              "    </tr>\n",
              "  </tbody>\n",
              "</table>\n",
              "</div>"
            ],
            "text/plain": [
              "    user_id  product_id        date  amount  address     result\n",
              "id                                                             \n",
              "5         7           3  2017-01-09     700  Incheon  confirmed\n",
              "6         5           7  2017-01-09     600    Busan   canceled\n",
              "7         2           5  2017-01-10     200      NaN   canceled"
            ]
          },
          "metadata": {
            "tags": []
          },
          "execution_count": 58
        }
      ]
    },
    {
      "cell_type": "markdown",
      "metadata": {
        "id": "qKXVZ6vpjDWt",
        "colab_type": "text"
      },
      "source": [
        "- Series 에서도 물론 사용할 수 있음"
      ]
    },
    {
      "cell_type": "code",
      "metadata": {
        "id": "Z9qBnZtAi675",
        "colab_type": "code",
        "colab": {
          "base_uri": "https://localhost:8080/",
          "height": 138
        },
        "outputId": "4fc9e256-39d1-42de-f5d6-05660164745c"
      },
      "source": [
        "order[\"date\"].head()"
      ],
      "execution_count": 60,
      "outputs": [
        {
          "output_type": "execute_result",
          "data": {
            "text/plain": [
              "id\n",
              "1    2017-01-01\n",
              "2    2017-01-03\n",
              "3    2017-01-03\n",
              "4    2017-01-07\n",
              "5    2017-01-09\n",
              "Name: date, dtype: object"
            ]
          },
          "metadata": {
            "tags": []
          },
          "execution_count": 60
        }
      ]
    },
    {
      "cell_type": "markdown",
      "metadata": {
        "id": "_B65RdSujWGb",
        "colab_type": "text"
      },
      "source": [
        "## Pandas 기본연산\n",
        "- pandas는 데이터분석을 위한 툴\n",
        "### 통계, 수학연산은 기본적으로 지원이 됨"
      ]
    },
    {
      "cell_type": "code",
      "metadata": {
        "id": "DzFRfj3NjBDV",
        "colab_type": "code",
        "colab": {
          "base_uri": "https://localhost:8080/",
          "height": 35
        },
        "outputId": "e94487ad-8ae0-4772-9581-417c49ea7f28"
      },
      "source": [
        "order[\"amount\"].mean()"
      ],
      "execution_count": 61,
      "outputs": [
        {
          "output_type": "execute_result",
          "data": {
            "text/plain": [
              "585.7142857142857"
            ]
          },
          "metadata": {
            "tags": []
          },
          "execution_count": 61
        }
      ]
    },
    {
      "cell_type": "code",
      "metadata": {
        "id": "dZ98xeofjlvT",
        "colab_type": "code",
        "colab": {
          "base_uri": "https://localhost:8080/",
          "height": 35
        },
        "outputId": "f5e467a7-3539-4151-f75d-46e4853d32ab"
      },
      "source": [
        "order[\"amount\"].min()"
      ],
      "execution_count": 63,
      "outputs": [
        {
          "output_type": "execute_result",
          "data": {
            "text/plain": [
              "200"
            ]
          },
          "metadata": {
            "tags": []
          },
          "execution_count": 63
        }
      ]
    },
    {
      "cell_type": "code",
      "metadata": {
        "id": "bhawOJrEjm2S",
        "colab_type": "code",
        "colab": {
          "base_uri": "https://localhost:8080/",
          "height": 35
        },
        "outputId": "96712f9a-12e1-4e2f-f195-242be432cd9d"
      },
      "source": [
        "order[\"amount\"].max()"
      ],
      "execution_count": 64,
      "outputs": [
        {
          "output_type": "execute_result",
          "data": {
            "text/plain": [
              "900"
            ]
          },
          "metadata": {
            "tags": []
          },
          "execution_count": 64
        }
      ]
    },
    {
      "cell_type": "code",
      "metadata": {
        "id": "HxM9mERcjreY",
        "colab_type": "code",
        "colab": {
          "base_uri": "https://localhost:8080/",
          "height": 173
        },
        "outputId": "9495404a-3aa3-4a18-eb27-ce85ae80c0b4"
      },
      "source": [
        "# 왠만한 연산 상위 25% 50% 75%\n",
        "order[\"amount\"].describe()"
      ],
      "execution_count": 66,
      "outputs": [
        {
          "output_type": "execute_result",
          "data": {
            "text/plain": [
              "count      7.000000\n",
              "mean     585.714286\n",
              "std      219.306266\n",
              "min      200.000000\n",
              "25%      500.000000\n",
              "50%      600.000000\n",
              "75%      700.000000\n",
              "max      900.000000\n",
              "Name: amount, dtype: float64"
            ]
          },
          "metadata": {
            "tags": []
          },
          "execution_count": 66
        }
      ]
    },
    {
      "cell_type": "markdown",
      "metadata": {
        "id": "5915zZnjkH4W",
        "colab_type": "text"
      },
      "source": [
        "### 특정 column의 데이터의 종류 세기\n",
        "- 중복제거"
      ]
    },
    {
      "cell_type": "code",
      "metadata": {
        "id": "h5pS0H6Ijwd7",
        "colab_type": "code",
        "colab": {
          "base_uri": "https://localhost:8080/",
          "height": 173
        },
        "outputId": "cc277166-c59e-4c9e-9ff9-b24ec01bf8c2"
      },
      "source": [
        "order[\"result\"]"
      ],
      "execution_count": 67,
      "outputs": [
        {
          "output_type": "execute_result",
          "data": {
            "text/plain": [
              "id\n",
              "1    confirmed\n",
              "2    confirmed\n",
              "3    confirmed\n",
              "4     canceled\n",
              "5    confirmed\n",
              "6     canceled\n",
              "7     canceled\n",
              "Name: result, dtype: object"
            ]
          },
          "metadata": {
            "tags": []
          },
          "execution_count": 67
        }
      ]
    },
    {
      "cell_type": "code",
      "metadata": {
        "id": "PAwESeaDkGpE",
        "colab_type": "code",
        "colab": {
          "base_uri": "https://localhost:8080/",
          "height": 35
        },
        "outputId": "c4064476-b2a9-4b43-b6d2-79078496dae6"
      },
      "source": [
        "order[\"result\"].unique()"
      ],
      "execution_count": 69,
      "outputs": [
        {
          "output_type": "execute_result",
          "data": {
            "text/plain": [
              "array(['confirmed', 'canceled'], dtype=object)"
            ]
          },
          "metadata": {
            "tags": []
          },
          "execution_count": 69
        }
      ]
    },
    {
      "cell_type": "markdown",
      "metadata": {
        "id": "RBTdXpIGkYqC",
        "colab_type": "text"
      },
      "source": [
        "- 각 데이터 종류별 개수"
      ]
    },
    {
      "cell_type": "code",
      "metadata": {
        "id": "4N4i1EtukTp3",
        "colab_type": "code",
        "colab": {
          "base_uri": "https://localhost:8080/",
          "height": 69
        },
        "outputId": "c35b4978-eb9e-44a1-c232-e17c5a66beb8"
      },
      "source": [
        "order[\"result\"].value_counts()"
      ],
      "execution_count": 70,
      "outputs": [
        {
          "output_type": "execute_result",
          "data": {
            "text/plain": [
              "confirmed    4\n",
              "canceled     3\n",
              "Name: result, dtype: int64"
            ]
          },
          "metadata": {
            "tags": []
          },
          "execution_count": 70
        }
      ]
    },
    {
      "cell_type": "markdown",
      "metadata": {
        "id": "0RcEFgbTkoBd",
        "colab_type": "text"
      },
      "source": [
        "- 상대적 수치 표현 - normalize"
      ]
    },
    {
      "cell_type": "code",
      "metadata": {
        "id": "84K0_4ZFkx9y",
        "colab_type": "code",
        "colab": {
          "base_uri": "https://localhost:8080/",
          "height": 69
        },
        "outputId": "3182e79a-f526-413b-b410-02c9bd3c64a5"
      },
      "source": [
        "order[\"result\"].value_counts(normalize=True)"
      ],
      "execution_count": 71,
      "outputs": [
        {
          "output_type": "execute_result",
          "data": {
            "text/plain": [
              "confirmed    0.571429\n",
              "canceled     0.428571\n",
              "Name: result, dtype: float64"
            ]
          },
          "metadata": {
            "tags": []
          },
          "execution_count": 71
        }
      ]
    },
    {
      "cell_type": "markdown",
      "metadata": {
        "id": "XW7grvZAlUU3",
        "colab_type": "text"
      },
      "source": [
        "### 값을 통일하여 바꾸고 개수 세기\n",
        "- confrimed, canceled -> confirm, cancel"
      ]
    },
    {
      "cell_type": "code",
      "metadata": {
        "id": "wbwPSW6sk9Dq",
        "colab_type": "code",
        "colab": {
          "base_uri": "https://localhost:8080/",
          "height": 173
        },
        "outputId": "05ba4c1a-7679-4d04-dfcd-a4580971408f"
      },
      "source": [
        "order[\"result\"].replace(\"confirmed\", \"confirm\")"
      ],
      "execution_count": 72,
      "outputs": [
        {
          "output_type": "execute_result",
          "data": {
            "text/plain": [
              "id\n",
              "1     confirm\n",
              "2     confirm\n",
              "3     confirm\n",
              "4    canceled\n",
              "5     confirm\n",
              "6    canceled\n",
              "7    canceled\n",
              "Name: result, dtype: object"
            ]
          },
          "metadata": {
            "tags": []
          },
          "execution_count": 72
        }
      ]
    },
    {
      "cell_type": "code",
      "metadata": {
        "id": "FeSO1r40lt4n",
        "colab_type": "code",
        "colab": {
          "base_uri": "https://localhost:8080/",
          "height": 288
        },
        "outputId": "73d2bf5c-8cfe-4baf-909e-f01758c577e9"
      },
      "source": [
        "order[\"result\"].replace(\"confirmed\", \"confirm\").replace(\"canceled\",\"cancel\")\n",
        "order"
      ],
      "execution_count": 76,
      "outputs": [
        {
          "output_type": "execute_result",
          "data": {
            "text/html": [
              "<div>\n",
              "<style scoped>\n",
              "    .dataframe tbody tr th:only-of-type {\n",
              "        vertical-align: middle;\n",
              "    }\n",
              "\n",
              "    .dataframe tbody tr th {\n",
              "        vertical-align: top;\n",
              "    }\n",
              "\n",
              "    .dataframe thead th {\n",
              "        text-align: right;\n",
              "    }\n",
              "</style>\n",
              "<table border=\"1\" class=\"dataframe\">\n",
              "  <thead>\n",
              "    <tr style=\"text-align: right;\">\n",
              "      <th></th>\n",
              "      <th>user_id</th>\n",
              "      <th>product_id</th>\n",
              "      <th>date</th>\n",
              "      <th>amount</th>\n",
              "      <th>address</th>\n",
              "      <th>result</th>\n",
              "    </tr>\n",
              "    <tr>\n",
              "      <th>id</th>\n",
              "      <th></th>\n",
              "      <th></th>\n",
              "      <th></th>\n",
              "      <th></th>\n",
              "      <th></th>\n",
              "      <th></th>\n",
              "    </tr>\n",
              "  </thead>\n",
              "  <tbody>\n",
              "    <tr>\n",
              "      <th>1</th>\n",
              "      <td>3</td>\n",
              "      <td>9</td>\n",
              "      <td>2017-01-01</td>\n",
              "      <td>500</td>\n",
              "      <td>Seoul</td>\n",
              "      <td>confirmed</td>\n",
              "    </tr>\n",
              "    <tr>\n",
              "      <th>2</th>\n",
              "      <td>1</td>\n",
              "      <td>7</td>\n",
              "      <td>2017-01-03</td>\n",
              "      <td>700</td>\n",
              "      <td>Seoul</td>\n",
              "      <td>confirmed</td>\n",
              "    </tr>\n",
              "    <tr>\n",
              "      <th>3</th>\n",
              "      <td>3</td>\n",
              "      <td>8</td>\n",
              "      <td>2017-01-03</td>\n",
              "      <td>900</td>\n",
              "      <td>Daejeon</td>\n",
              "      <td>confirmed</td>\n",
              "    </tr>\n",
              "    <tr>\n",
              "      <th>4</th>\n",
              "      <td>4</td>\n",
              "      <td>2</td>\n",
              "      <td>2017-01-07</td>\n",
              "      <td>500</td>\n",
              "      <td>NaN</td>\n",
              "      <td>canceled</td>\n",
              "    </tr>\n",
              "    <tr>\n",
              "      <th>5</th>\n",
              "      <td>7</td>\n",
              "      <td>3</td>\n",
              "      <td>2017-01-09</td>\n",
              "      <td>700</td>\n",
              "      <td>Incheon</td>\n",
              "      <td>confirmed</td>\n",
              "    </tr>\n",
              "    <tr>\n",
              "      <th>6</th>\n",
              "      <td>5</td>\n",
              "      <td>7</td>\n",
              "      <td>2017-01-09</td>\n",
              "      <td>600</td>\n",
              "      <td>Busan</td>\n",
              "      <td>canceled</td>\n",
              "    </tr>\n",
              "    <tr>\n",
              "      <th>7</th>\n",
              "      <td>2</td>\n",
              "      <td>5</td>\n",
              "      <td>2017-01-10</td>\n",
              "      <td>200</td>\n",
              "      <td>NaN</td>\n",
              "      <td>canceled</td>\n",
              "    </tr>\n",
              "  </tbody>\n",
              "</table>\n",
              "</div>"
            ],
            "text/plain": [
              "    user_id  product_id        date  amount  address     result\n",
              "id                                                             \n",
              "1         3           9  2017-01-01     500    Seoul  confirmed\n",
              "2         1           7  2017-01-03     700    Seoul  confirmed\n",
              "3         3           8  2017-01-03     900  Daejeon  confirmed\n",
              "4         4           2  2017-01-07     500      NaN   canceled\n",
              "5         7           3  2017-01-09     700  Incheon  confirmed\n",
              "6         5           7  2017-01-09     600    Busan   canceled\n",
              "7         2           5  2017-01-10     200      NaN   canceled"
            ]
          },
          "metadata": {
            "tags": []
          },
          "execution_count": 76
        }
      ]
    },
    {
      "cell_type": "code",
      "metadata": {
        "id": "8sCpZOqzl5AG",
        "colab_type": "code",
        "colab": {
          "base_uri": "https://localhost:8080/",
          "height": 288
        },
        "outputId": "def5e3ec-fb4d-4bd8-ff40-1e0b9451b191"
      },
      "source": [
        "# 위에처럼 하면 원래 데이터가 안바뀜!\n",
        "order[\"result\"] = order[\"result\"].replace(\"confirmed\", \"confirm\").replace(\"canceled\",\"cancel\")\n",
        "order"
      ],
      "execution_count": 78,
      "outputs": [
        {
          "output_type": "execute_result",
          "data": {
            "text/html": [
              "<div>\n",
              "<style scoped>\n",
              "    .dataframe tbody tr th:only-of-type {\n",
              "        vertical-align: middle;\n",
              "    }\n",
              "\n",
              "    .dataframe tbody tr th {\n",
              "        vertical-align: top;\n",
              "    }\n",
              "\n",
              "    .dataframe thead th {\n",
              "        text-align: right;\n",
              "    }\n",
              "</style>\n",
              "<table border=\"1\" class=\"dataframe\">\n",
              "  <thead>\n",
              "    <tr style=\"text-align: right;\">\n",
              "      <th></th>\n",
              "      <th>user_id</th>\n",
              "      <th>product_id</th>\n",
              "      <th>date</th>\n",
              "      <th>amount</th>\n",
              "      <th>address</th>\n",
              "      <th>result</th>\n",
              "    </tr>\n",
              "    <tr>\n",
              "      <th>id</th>\n",
              "      <th></th>\n",
              "      <th></th>\n",
              "      <th></th>\n",
              "      <th></th>\n",
              "      <th></th>\n",
              "      <th></th>\n",
              "    </tr>\n",
              "  </thead>\n",
              "  <tbody>\n",
              "    <tr>\n",
              "      <th>1</th>\n",
              "      <td>3</td>\n",
              "      <td>9</td>\n",
              "      <td>2017-01-01</td>\n",
              "      <td>500</td>\n",
              "      <td>Seoul</td>\n",
              "      <td>confirm</td>\n",
              "    </tr>\n",
              "    <tr>\n",
              "      <th>2</th>\n",
              "      <td>1</td>\n",
              "      <td>7</td>\n",
              "      <td>2017-01-03</td>\n",
              "      <td>700</td>\n",
              "      <td>Seoul</td>\n",
              "      <td>confirm</td>\n",
              "    </tr>\n",
              "    <tr>\n",
              "      <th>3</th>\n",
              "      <td>3</td>\n",
              "      <td>8</td>\n",
              "      <td>2017-01-03</td>\n",
              "      <td>900</td>\n",
              "      <td>Daejeon</td>\n",
              "      <td>confirm</td>\n",
              "    </tr>\n",
              "    <tr>\n",
              "      <th>4</th>\n",
              "      <td>4</td>\n",
              "      <td>2</td>\n",
              "      <td>2017-01-07</td>\n",
              "      <td>500</td>\n",
              "      <td>NaN</td>\n",
              "      <td>cancel</td>\n",
              "    </tr>\n",
              "    <tr>\n",
              "      <th>5</th>\n",
              "      <td>7</td>\n",
              "      <td>3</td>\n",
              "      <td>2017-01-09</td>\n",
              "      <td>700</td>\n",
              "      <td>Incheon</td>\n",
              "      <td>confirm</td>\n",
              "    </tr>\n",
              "    <tr>\n",
              "      <th>6</th>\n",
              "      <td>5</td>\n",
              "      <td>7</td>\n",
              "      <td>2017-01-09</td>\n",
              "      <td>600</td>\n",
              "      <td>Busan</td>\n",
              "      <td>cancel</td>\n",
              "    </tr>\n",
              "    <tr>\n",
              "      <th>7</th>\n",
              "      <td>2</td>\n",
              "      <td>5</td>\n",
              "      <td>2017-01-10</td>\n",
              "      <td>200</td>\n",
              "      <td>NaN</td>\n",
              "      <td>cancel</td>\n",
              "    </tr>\n",
              "  </tbody>\n",
              "</table>\n",
              "</div>"
            ],
            "text/plain": [
              "    user_id  product_id        date  amount  address   result\n",
              "id                                                           \n",
              "1         3           9  2017-01-01     500    Seoul  confirm\n",
              "2         1           7  2017-01-03     700    Seoul  confirm\n",
              "3         3           8  2017-01-03     900  Daejeon  confirm\n",
              "4         4           2  2017-01-07     500      NaN   cancel\n",
              "5         7           3  2017-01-09     700  Incheon  confirm\n",
              "6         5           7  2017-01-09     600    Busan   cancel\n",
              "7         2           5  2017-01-10     200      NaN   cancel"
            ]
          },
          "metadata": {
            "tags": []
          },
          "execution_count": 78
        }
      ]
    },
    {
      "cell_type": "markdown",
      "metadata": {
        "id": "Q8LwFfT7ofWq",
        "colab_type": "text"
      },
      "source": [
        "### pandas 날짜 인식"
      ]
    },
    {
      "cell_type": "code",
      "metadata": {
        "id": "REHzovoUnWTc",
        "colab_type": "code",
        "colab": {
          "base_uri": "https://localhost:8080/",
          "height": 173
        },
        "outputId": "12d32f4a-e6fa-4488-f9a2-95e578436457"
      },
      "source": [
        "#아래 데이터들은 string이다. 그럼 숫자로 어떻게 읽을까?\n",
        "order[\"date\"]"
      ],
      "execution_count": 80,
      "outputs": [
        {
          "output_type": "execute_result",
          "data": {
            "text/plain": [
              "id\n",
              "1    2017-01-01\n",
              "2    2017-01-03\n",
              "3    2017-01-03\n",
              "4    2017-01-07\n",
              "5    2017-01-09\n",
              "6    2017-01-09\n",
              "7    2017-01-10\n",
              "Name: date, dtype: object"
            ]
          },
          "metadata": {
            "tags": []
          },
          "execution_count": 80
        }
      ]
    },
    {
      "cell_type": "code",
      "metadata": {
        "id": "7I3qX9tTnxHi",
        "colab_type": "code",
        "colab": {
          "base_uri": "https://localhost:8080/",
          "height": 173
        },
        "outputId": "28095831-6271-4e78-c2f2-601bd6525d0b"
      },
      "source": [
        "# 날짜라고 인식시켜줘!\n",
        "pd.to_datetime(order[\"date\"])"
      ],
      "execution_count": 85,
      "outputs": [
        {
          "output_type": "execute_result",
          "data": {
            "text/plain": [
              "id\n",
              "1   2017-01-01\n",
              "2   2017-01-03\n",
              "3   2017-01-03\n",
              "4   2017-01-07\n",
              "5   2017-01-09\n",
              "6   2017-01-09\n",
              "7   2017-01-10\n",
              "Name: date, dtype: datetime64[ns]"
            ]
          },
          "metadata": {
            "tags": []
          },
          "execution_count": 85
        }
      ]
    },
    {
      "cell_type": "code",
      "metadata": {
        "id": "LUQ1biM5oBRH",
        "colab_type": "code",
        "colab": {
          "base_uri": "https://localhost:8080/",
          "height": 288
        },
        "outputId": "9aac9b8f-fd7f-4fb3-98d5-84ef79826d8c"
      },
      "source": [
        "order[\"date\"]=pd.to_datetime(order[\"date\"])\n",
        "order"
      ],
      "execution_count": 86,
      "outputs": [
        {
          "output_type": "execute_result",
          "data": {
            "text/html": [
              "<div>\n",
              "<style scoped>\n",
              "    .dataframe tbody tr th:only-of-type {\n",
              "        vertical-align: middle;\n",
              "    }\n",
              "\n",
              "    .dataframe tbody tr th {\n",
              "        vertical-align: top;\n",
              "    }\n",
              "\n",
              "    .dataframe thead th {\n",
              "        text-align: right;\n",
              "    }\n",
              "</style>\n",
              "<table border=\"1\" class=\"dataframe\">\n",
              "  <thead>\n",
              "    <tr style=\"text-align: right;\">\n",
              "      <th></th>\n",
              "      <th>user_id</th>\n",
              "      <th>product_id</th>\n",
              "      <th>date</th>\n",
              "      <th>amount</th>\n",
              "      <th>address</th>\n",
              "      <th>result</th>\n",
              "    </tr>\n",
              "    <tr>\n",
              "      <th>id</th>\n",
              "      <th></th>\n",
              "      <th></th>\n",
              "      <th></th>\n",
              "      <th></th>\n",
              "      <th></th>\n",
              "      <th></th>\n",
              "    </tr>\n",
              "  </thead>\n",
              "  <tbody>\n",
              "    <tr>\n",
              "      <th>1</th>\n",
              "      <td>3</td>\n",
              "      <td>9</td>\n",
              "      <td>2017-01-01</td>\n",
              "      <td>500</td>\n",
              "      <td>Seoul</td>\n",
              "      <td>confirm</td>\n",
              "    </tr>\n",
              "    <tr>\n",
              "      <th>2</th>\n",
              "      <td>1</td>\n",
              "      <td>7</td>\n",
              "      <td>2017-01-03</td>\n",
              "      <td>700</td>\n",
              "      <td>Seoul</td>\n",
              "      <td>confirm</td>\n",
              "    </tr>\n",
              "    <tr>\n",
              "      <th>3</th>\n",
              "      <td>3</td>\n",
              "      <td>8</td>\n",
              "      <td>2017-01-03</td>\n",
              "      <td>900</td>\n",
              "      <td>Daejeon</td>\n",
              "      <td>confirm</td>\n",
              "    </tr>\n",
              "    <tr>\n",
              "      <th>4</th>\n",
              "      <td>4</td>\n",
              "      <td>2</td>\n",
              "      <td>2017-01-07</td>\n",
              "      <td>500</td>\n",
              "      <td>NaN</td>\n",
              "      <td>cancel</td>\n",
              "    </tr>\n",
              "    <tr>\n",
              "      <th>5</th>\n",
              "      <td>7</td>\n",
              "      <td>3</td>\n",
              "      <td>2017-01-09</td>\n",
              "      <td>700</td>\n",
              "      <td>Incheon</td>\n",
              "      <td>confirm</td>\n",
              "    </tr>\n",
              "    <tr>\n",
              "      <th>6</th>\n",
              "      <td>5</td>\n",
              "      <td>7</td>\n",
              "      <td>2017-01-09</td>\n",
              "      <td>600</td>\n",
              "      <td>Busan</td>\n",
              "      <td>cancel</td>\n",
              "    </tr>\n",
              "    <tr>\n",
              "      <th>7</th>\n",
              "      <td>2</td>\n",
              "      <td>5</td>\n",
              "      <td>2017-01-10</td>\n",
              "      <td>200</td>\n",
              "      <td>NaN</td>\n",
              "      <td>cancel</td>\n",
              "    </tr>\n",
              "  </tbody>\n",
              "</table>\n",
              "</div>"
            ],
            "text/plain": [
              "    user_id  product_id       date  amount  address   result\n",
              "id                                                          \n",
              "1         3           9 2017-01-01     500    Seoul  confirm\n",
              "2         1           7 2017-01-03     700    Seoul  confirm\n",
              "3         3           8 2017-01-03     900  Daejeon  confirm\n",
              "4         4           2 2017-01-07     500      NaN   cancel\n",
              "5         7           3 2017-01-09     700  Incheon  confirm\n",
              "6         5           7 2017-01-09     600    Busan   cancel\n",
              "7         2           5 2017-01-10     200      NaN   cancel"
            ]
          },
          "metadata": {
            "tags": []
          },
          "execution_count": 86
        }
      ]
    },
    {
      "cell_type": "code",
      "metadata": {
        "id": "tnnxzo1MoCCV",
        "colab_type": "code",
        "colab": {
          "base_uri": "https://localhost:8080/",
          "height": 173
        },
        "outputId": "a73c8733-827d-438c-dbbc-450005872b4b"
      },
      "source": [
        "order[\"date\"].dt.year"
      ],
      "execution_count": 87,
      "outputs": [
        {
          "output_type": "execute_result",
          "data": {
            "text/plain": [
              "id\n",
              "1    2017\n",
              "2    2017\n",
              "3    2017\n",
              "4    2017\n",
              "5    2017\n",
              "6    2017\n",
              "7    2017\n",
              "Name: date, dtype: int64"
            ]
          },
          "metadata": {
            "tags": []
          },
          "execution_count": 87
        }
      ]
    },
    {
      "cell_type": "code",
      "metadata": {
        "id": "CjXkoQk4oVva",
        "colab_type": "code",
        "colab": {
          "base_uri": "https://localhost:8080/",
          "height": 173
        },
        "outputId": "684de236-94be-40a2-eb6b-dd09c6c39cd8"
      },
      "source": [
        "order[\"date\"].dt.month"
      ],
      "execution_count": 88,
      "outputs": [
        {
          "output_type": "execute_result",
          "data": {
            "text/plain": [
              "id\n",
              "1    1\n",
              "2    1\n",
              "3    1\n",
              "4    1\n",
              "5    1\n",
              "6    1\n",
              "7    1\n",
              "Name: date, dtype: int64"
            ]
          },
          "metadata": {
            "tags": []
          },
          "execution_count": 88
        }
      ]
    },
    {
      "cell_type": "code",
      "metadata": {
        "id": "CJPNODXeoZx3",
        "colab_type": "code",
        "colab": {
          "base_uri": "https://localhost:8080/",
          "height": 173
        },
        "outputId": "959a4e1b-fdda-4816-9ec2-b97e455379ce"
      },
      "source": [
        "order[\"date\"].dt.day"
      ],
      "execution_count": 89,
      "outputs": [
        {
          "output_type": "execute_result",
          "data": {
            "text/plain": [
              "id\n",
              "1     1\n",
              "2     3\n",
              "3     3\n",
              "4     7\n",
              "5     9\n",
              "6     9\n",
              "7    10\n",
              "Name: date, dtype: int64"
            ]
          },
          "metadata": {
            "tags": []
          },
          "execution_count": 89
        }
      ]
    },
    {
      "cell_type": "code",
      "metadata": {
        "id": "PdP1eT0IobYN",
        "colab_type": "code",
        "colab": {
          "base_uri": "https://localhost:8080/",
          "height": 288
        },
        "outputId": "7f871e53-50f5-4011-cc28-03a5817435e0"
      },
      "source": [
        "order = pd.read_csv(order_url)\n",
        "order = order.set_index(\"id\")\n",
        "order"
      ],
      "execution_count": 90,
      "outputs": [
        {
          "output_type": "execute_result",
          "data": {
            "text/html": [
              "<div>\n",
              "<style scoped>\n",
              "    .dataframe tbody tr th:only-of-type {\n",
              "        vertical-align: middle;\n",
              "    }\n",
              "\n",
              "    .dataframe tbody tr th {\n",
              "        vertical-align: top;\n",
              "    }\n",
              "\n",
              "    .dataframe thead th {\n",
              "        text-align: right;\n",
              "    }\n",
              "</style>\n",
              "<table border=\"1\" class=\"dataframe\">\n",
              "  <thead>\n",
              "    <tr style=\"text-align: right;\">\n",
              "      <th></th>\n",
              "      <th>user_id</th>\n",
              "      <th>product_id</th>\n",
              "      <th>date</th>\n",
              "      <th>price</th>\n",
              "      <th>address</th>\n",
              "      <th>state</th>\n",
              "    </tr>\n",
              "    <tr>\n",
              "      <th>id</th>\n",
              "      <th></th>\n",
              "      <th></th>\n",
              "      <th></th>\n",
              "      <th></th>\n",
              "      <th></th>\n",
              "      <th></th>\n",
              "    </tr>\n",
              "  </thead>\n",
              "  <tbody>\n",
              "    <tr>\n",
              "      <th>1</th>\n",
              "      <td>3</td>\n",
              "      <td>9</td>\n",
              "      <td>2017-01-01</td>\n",
              "      <td>500</td>\n",
              "      <td>Seoul</td>\n",
              "      <td>confirmed</td>\n",
              "    </tr>\n",
              "    <tr>\n",
              "      <th>2</th>\n",
              "      <td>1</td>\n",
              "      <td>7</td>\n",
              "      <td>2017-01-03</td>\n",
              "      <td>700</td>\n",
              "      <td>Seoul</td>\n",
              "      <td>confirmed</td>\n",
              "    </tr>\n",
              "    <tr>\n",
              "      <th>3</th>\n",
              "      <td>3</td>\n",
              "      <td>8</td>\n",
              "      <td>2017-01-03</td>\n",
              "      <td>900</td>\n",
              "      <td>Daejeon</td>\n",
              "      <td>confirmed</td>\n",
              "    </tr>\n",
              "    <tr>\n",
              "      <th>4</th>\n",
              "      <td>4</td>\n",
              "      <td>2</td>\n",
              "      <td>2017-01-07</td>\n",
              "      <td>500</td>\n",
              "      <td>NaN</td>\n",
              "      <td>canceled</td>\n",
              "    </tr>\n",
              "    <tr>\n",
              "      <th>5</th>\n",
              "      <td>7</td>\n",
              "      <td>3</td>\n",
              "      <td>2017-01-09</td>\n",
              "      <td>700</td>\n",
              "      <td>Incheon</td>\n",
              "      <td>confirmed</td>\n",
              "    </tr>\n",
              "    <tr>\n",
              "      <th>6</th>\n",
              "      <td>5</td>\n",
              "      <td>7</td>\n",
              "      <td>2017-01-09</td>\n",
              "      <td>600</td>\n",
              "      <td>Busan</td>\n",
              "      <td>canceled</td>\n",
              "    </tr>\n",
              "    <tr>\n",
              "      <th>7</th>\n",
              "      <td>2</td>\n",
              "      <td>5</td>\n",
              "      <td>2017-01-10</td>\n",
              "      <td>200</td>\n",
              "      <td>NaN</td>\n",
              "      <td>canceled</td>\n",
              "    </tr>\n",
              "  </tbody>\n",
              "</table>\n",
              "</div>"
            ],
            "text/plain": [
              "    user_id  product_id        date  price  address      state\n",
              "id                                                            \n",
              "1         3           9  2017-01-01    500    Seoul  confirmed\n",
              "2         1           7  2017-01-03    700    Seoul  confirmed\n",
              "3         3           8  2017-01-03    900  Daejeon  confirmed\n",
              "4         4           2  2017-01-07    500      NaN   canceled\n",
              "5         7           3  2017-01-09    700  Incheon  confirmed\n",
              "6         5           7  2017-01-09    600    Busan   canceled\n",
              "7         2           5  2017-01-10    200      NaN   canceled"
            ]
          },
          "metadata": {
            "tags": []
          },
          "execution_count": 90
        }
      ]
    },
    {
      "cell_type": "code",
      "metadata": {
        "id": "Kl7kYYaEovHg",
        "colab_type": "code",
        "colab": {
          "base_uri": "https://localhost:8080/",
          "height": 294
        },
        "outputId": "d329b9f4-876c-470b-e0ab-1c6db0240424"
      },
      "source": [
        "order[\"date\"].dt.year"
      ],
      "execution_count": 91,
      "outputs": [
        {
          "output_type": "error",
          "ename": "AttributeError",
          "evalue": "ignored",
          "traceback": [
            "\u001b[0;31m---------------------------------------------------------------------------\u001b[0m",
            "\u001b[0;31mAttributeError\u001b[0m                            Traceback (most recent call last)",
            "\u001b[0;32m<ipython-input-91-213c7bc3620f>\u001b[0m in \u001b[0;36m<module>\u001b[0;34m()\u001b[0m\n\u001b[0;32m----> 1\u001b[0;31m \u001b[0morder\u001b[0m\u001b[0;34m[\u001b[0m\u001b[0;34m\"date\"\u001b[0m\u001b[0;34m]\u001b[0m\u001b[0;34m.\u001b[0m\u001b[0mdt\u001b[0m\u001b[0;34m.\u001b[0m\u001b[0myear\u001b[0m\u001b[0;34m\u001b[0m\u001b[0;34m\u001b[0m\u001b[0m\n\u001b[0m",
            "\u001b[0;32m/usr/local/lib/python3.6/dist-packages/pandas/core/generic.py\u001b[0m in \u001b[0;36m__getattr__\u001b[0;34m(self, name)\u001b[0m\n\u001b[1;32m   5061\u001b[0m         if (name in self._internal_names_set or name in self._metadata or\n\u001b[1;32m   5062\u001b[0m                 name in self._accessors):\n\u001b[0;32m-> 5063\u001b[0;31m             \u001b[0;32mreturn\u001b[0m \u001b[0mobject\u001b[0m\u001b[0;34m.\u001b[0m\u001b[0m__getattribute__\u001b[0m\u001b[0;34m(\u001b[0m\u001b[0mself\u001b[0m\u001b[0;34m,\u001b[0m \u001b[0mname\u001b[0m\u001b[0;34m)\u001b[0m\u001b[0;34m\u001b[0m\u001b[0;34m\u001b[0m\u001b[0m\n\u001b[0m\u001b[1;32m   5064\u001b[0m         \u001b[0;32melse\u001b[0m\u001b[0;34m:\u001b[0m\u001b[0;34m\u001b[0m\u001b[0;34m\u001b[0m\u001b[0m\n\u001b[1;32m   5065\u001b[0m             \u001b[0;32mif\u001b[0m \u001b[0mself\u001b[0m\u001b[0;34m.\u001b[0m\u001b[0m_info_axis\u001b[0m\u001b[0;34m.\u001b[0m\u001b[0m_can_hold_identifiers_and_holds_name\u001b[0m\u001b[0;34m(\u001b[0m\u001b[0mname\u001b[0m\u001b[0;34m)\u001b[0m\u001b[0;34m:\u001b[0m\u001b[0;34m\u001b[0m\u001b[0;34m\u001b[0m\u001b[0m\n",
            "\u001b[0;32m/usr/local/lib/python3.6/dist-packages/pandas/core/accessor.py\u001b[0m in \u001b[0;36m__get__\u001b[0;34m(self, obj, cls)\u001b[0m\n\u001b[1;32m    169\u001b[0m             \u001b[0;31m# we're accessing the attribute of the class, i.e., Dataset.geo\u001b[0m\u001b[0;34m\u001b[0m\u001b[0;34m\u001b[0m\u001b[0;34m\u001b[0m\u001b[0m\n\u001b[1;32m    170\u001b[0m             \u001b[0;32mreturn\u001b[0m \u001b[0mself\u001b[0m\u001b[0;34m.\u001b[0m\u001b[0m_accessor\u001b[0m\u001b[0;34m\u001b[0m\u001b[0;34m\u001b[0m\u001b[0m\n\u001b[0;32m--> 171\u001b[0;31m         \u001b[0maccessor_obj\u001b[0m \u001b[0;34m=\u001b[0m \u001b[0mself\u001b[0m\u001b[0;34m.\u001b[0m\u001b[0m_accessor\u001b[0m\u001b[0;34m(\u001b[0m\u001b[0mobj\u001b[0m\u001b[0;34m)\u001b[0m\u001b[0;34m\u001b[0m\u001b[0;34m\u001b[0m\u001b[0m\n\u001b[0m\u001b[1;32m    172\u001b[0m         \u001b[0;31m# Replace the property with the accessor object. Inspired by:\u001b[0m\u001b[0;34m\u001b[0m\u001b[0;34m\u001b[0m\u001b[0;34m\u001b[0m\u001b[0m\n\u001b[1;32m    173\u001b[0m         \u001b[0;31m# http://www.pydanny.com/cached-property.html\u001b[0m\u001b[0;34m\u001b[0m\u001b[0;34m\u001b[0m\u001b[0;34m\u001b[0m\u001b[0m\n",
            "\u001b[0;32m/usr/local/lib/python3.6/dist-packages/pandas/core/indexes/accessors.py\u001b[0m in \u001b[0;36m__new__\u001b[0;34m(cls, data)\u001b[0m\n\u001b[1;32m    322\u001b[0m             \u001b[0;32mpass\u001b[0m  \u001b[0;31m# we raise an attribute error anyway\u001b[0m\u001b[0;34m\u001b[0m\u001b[0;34m\u001b[0m\u001b[0m\n\u001b[1;32m    323\u001b[0m \u001b[0;34m\u001b[0m\u001b[0m\n\u001b[0;32m--> 324\u001b[0;31m         raise AttributeError(\"Can only use .dt accessor with datetimelike \"\n\u001b[0m\u001b[1;32m    325\u001b[0m                              \"values\")\n",
            "\u001b[0;31mAttributeError\u001b[0m: Can only use .dt accessor with datetimelike values"
          ]
        }
      ]
    },
    {
      "cell_type": "code",
      "metadata": {
        "id": "IWwrIUOHozkr",
        "colab_type": "code",
        "colab": {}
      },
      "source": [
        ""
      ],
      "execution_count": 0,
      "outputs": []
    }
  ]
}